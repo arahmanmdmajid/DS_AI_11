{
  "nbformat": 4,
  "nbformat_minor": 0,
  "metadata": {
    "colab": {
      "provenance": [],
      "authorship_tag": "ABX9TyOVVhItz69vVW1yzJkx1YvD",
      "include_colab_link": true
    },
    "kernelspec": {
      "name": "python3",
      "display_name": "Python 3"
    },
    "language_info": {
      "name": "python"
    }
  },
  "cells": [
    {
      "cell_type": "markdown",
      "metadata": {
        "id": "view-in-github",
        "colab_type": "text"
      },
      "source": [
        "<a href=\"https://colab.research.google.com/github/arahmanmdmajid/DS_AI_11/blob/main/Python_Group_Activity_DS_11.ipynb\" target=\"_parent\"><img src=\"https://colab.research.google.com/assets/colab-badge.svg\" alt=\"Open In Colab\"/></a>"
      ]
    },
    {
      "cell_type": "code",
      "execution_count": 26,
      "metadata": {
        "colab": {
          "base_uri": "https://localhost:8080/"
        },
        "id": "fCTlbR-6jubm",
        "outputId": "51667ed9-1380-4eae-810a-0dd6b0c85f4b"
      },
      "outputs": [
        {
          "output_type": "execute_result",
          "data": {
            "text/plain": [
              "109"
            ]
          },
          "metadata": {},
          "execution_count": 26
        }
      ],
      "source": [
        "#Largest Difference in List\n",
        "list1= [1,2,90,10,110]\n",
        "\n",
        "diff = 0\n",
        "\n",
        "for j in range(len(list1)):\n",
        "  for i in range(len(list1)):\n",
        "      if abs(list1[i]-list1[j]) > diff:\n",
        "        diff = abs(list1[i]-list1[j])\n",
        "diff\n"
      ]
    },
    {
      "cell_type": "code",
      "source": [
        "# First Non-Repeating Character\n",
        "string1 = \"aabcc\"\n",
        "singleChar = \"\"\n",
        "\n",
        "for char in string1:\n",
        "  if string1.count(char) == 1:\n",
        "    singleChar = char\n",
        "    break\n",
        "  else:\n",
        "    singleChar = None\n",
        "\n",
        "singleChar"
      ],
      "metadata": {
        "colab": {
          "base_uri": "https://localhost:8080/",
          "height": 36
        },
        "id": "WOskISjgouDM",
        "outputId": "7ab48784-8e5d-4df1-98ea-1e4ccfdb1da2"
      },
      "execution_count": 27,
      "outputs": [
        {
          "output_type": "execute_result",
          "data": {
            "text/plain": [
              "'b'"
            ],
            "application/vnd.google.colaboratory.intrinsic+json": {
              "type": "string"
            }
          },
          "metadata": {},
          "execution_count": 27
        }
      ]
    },
    {
      "cell_type": "code",
      "source": [
        "#Check If Strings Are Permutations\n",
        "string1 = \"abc\"\n",
        "string2 = \"bca\"\n",
        "\n",
        "sorted_string1 = sorted(string1)\n",
        "sorted_string2 = sorted(string2)\n",
        "\n",
        "if sorted_string1 == sorted_string2:\n",
        "  print(\"True\")\n",
        "else:\n",
        "  print(\"False\")"
      ],
      "metadata": {
        "colab": {
          "base_uri": "https://localhost:8080/"
        },
        "id": "F52-WloyqLrP",
        "outputId": "b449ed67-518b-4950-cd85-a088c8241835"
      },
      "execution_count": 28,
      "outputs": [
        {
          "output_type": "stream",
          "name": "stdout",
          "text": [
            "True\n"
          ]
        }
      ]
    },
    {
      "cell_type": "code",
      "source": [
        "# Find the Second Largest Unique Number\n",
        "list1 = [4, 5, 6, 6, 7]\n",
        "unique_list = []\n",
        "\n",
        "set1 = set(list1)\n",
        "unique_list = sorted(list(set1))\n",
        "print(unique_list[-2])"
      ],
      "metadata": {
        "colab": {
          "base_uri": "https://localhost:8080/"
        },
        "id": "mBrExotfrSWf",
        "outputId": "9dd252b6-eae2-4fe2-f4b3-c5a557419a1b"
      },
      "execution_count": 29,
      "outputs": [
        {
          "output_type": "stream",
          "name": "stdout",
          "text": [
            "6\n"
          ]
        }
      ]
    },
    {
      "cell_type": "code",
      "source": [
        "# Count Distinct Pairs\n",
        "list1 = [1, 2, 3, 4, 3, 6]\n",
        "target = 6\n",
        "pairCount = 0\n",
        "\n",
        "for i in range(len(list1)):\n",
        "  for j in range(i+1, len(list1)):\n",
        "    if list1[i] + list1[j] == target:\n",
        "      print(f\"({list1[i]}, {list1[j]})\")\n",
        "      pairCount+=1\n",
        "\n",
        "print(pairCount)"
      ],
      "metadata": {
        "colab": {
          "base_uri": "https://localhost:8080/"
        },
        "id": "Lz1HHoxDYRSY",
        "outputId": "7488cff7-9924-4e30-b543-de62920a9ca7"
      },
      "execution_count": 30,
      "outputs": [
        {
          "output_type": "stream",
          "name": "stdout",
          "text": [
            "(2, 4)\n",
            "(3, 3)\n",
            "2\n"
          ]
        }
      ]
    },
    {
      "cell_type": "code",
      "source": [
        "# Remove Duplicates from List\n",
        "inputList =  [1, 2, 2, 3, 4, 5, 1]\n",
        "outputList = list(set(inputList))\n",
        "\n",
        "outputList"
      ],
      "metadata": {
        "colab": {
          "base_uri": "https://localhost:8080/"
        },
        "id": "jIVZE23Mg0tt",
        "outputId": "7a408fca-7255-4c84-c30b-79ee1879afc7"
      },
      "execution_count": 31,
      "outputs": [
        {
          "output_type": "execute_result",
          "data": {
            "text/plain": [
              "[1, 2, 3, 4, 5]"
            ]
          },
          "metadata": {},
          "execution_count": 31
        }
      ]
    },
    {
      "cell_type": "code",
      "source": [
        "# Subsets of a List\n",
        "list1 = [1, 2, 3]\n",
        "subsets = []\n",
        "\n",
        "for i in range(2**len(list1)):\n",
        "  # print(i)\n",
        "  subset = []\n",
        "  for j in range(len(list1)):\n",
        "    if i & (1 << j):\n",
        "      subset.append(list1[j])\n",
        "  subsets.append(subset)\n",
        "\n",
        "subsets"
      ],
      "metadata": {
        "colab": {
          "base_uri": "https://localhost:8080/"
        },
        "id": "Vuh8lXF4hev5",
        "outputId": "17552749-9dcb-4add-ade4-8c2a11ef5d07"
      },
      "execution_count": 32,
      "outputs": [
        {
          "output_type": "execute_result",
          "data": {
            "text/plain": [
              "[[], [1], [2], [1, 2], [3], [1, 3], [2, 3], [1, 2, 3]]"
            ]
          },
          "metadata": {},
          "execution_count": 32
        }
      ]
    },
    {
      "cell_type": "code",
      "source": [
        "# Longest Increasing Subsequence\n",
        "list1 = [10, 9, 2, 5, 3, 7, 101, 18]\n",
        "LongIncrSeq = [0]\n",
        "for i in range(len(list1)):\n",
        "  print(f\"i = {i}\")\n",
        "  for j in range(i+1):\n",
        "    print(f\"j = {j}\")\n",
        "    print(f\"({list1[i]}, {list1[j]})\")\n",
        "\n",
        "    if list1[i] <= list1[j]:\n",
        "      LongIncrSeq[j]= max(LongIncrSeq[i], list1[i])\n",
        "      print(LongIncrSeq)\n",
        "\n",
        "# LongIncrSeq"
      ],
      "metadata": {
        "colab": {
          "base_uri": "https://localhost:8080/",
          "height": 346
        },
        "id": "uFbB7luh6E2U",
        "outputId": "0e3f598a-8537-4bbb-c149-3704be2eb3cf"
      },
      "execution_count": 33,
      "outputs": [
        {
          "output_type": "stream",
          "name": "stdout",
          "text": [
            "i = 0\n",
            "j = 0\n",
            "(10, 10)\n",
            "[10]\n",
            "i = 1\n",
            "j = 0\n",
            "(9, 10)\n"
          ]
        },
        {
          "output_type": "error",
          "ename": "IndexError",
          "evalue": "list index out of range",
          "traceback": [
            "\u001b[0;31m---------------------------------------------------------------------------\u001b[0m",
            "\u001b[0;31mIndexError\u001b[0m                                Traceback (most recent call last)",
            "\u001b[0;32m<ipython-input-33-23b675160a9a>\u001b[0m in \u001b[0;36m<cell line: 0>\u001b[0;34m()\u001b[0m\n\u001b[1;32m      9\u001b[0m \u001b[0;34m\u001b[0m\u001b[0m\n\u001b[1;32m     10\u001b[0m     \u001b[0;32mif\u001b[0m \u001b[0mlist1\u001b[0m\u001b[0;34m[\u001b[0m\u001b[0mi\u001b[0m\u001b[0;34m]\u001b[0m \u001b[0;34m<=\u001b[0m \u001b[0mlist1\u001b[0m\u001b[0;34m[\u001b[0m\u001b[0mj\u001b[0m\u001b[0;34m]\u001b[0m\u001b[0;34m:\u001b[0m\u001b[0;34m\u001b[0m\u001b[0;34m\u001b[0m\u001b[0m\n\u001b[0;32m---> 11\u001b[0;31m       \u001b[0mLongIncrSeq\u001b[0m\u001b[0;34m[\u001b[0m\u001b[0mj\u001b[0m\u001b[0;34m]\u001b[0m\u001b[0;34m=\u001b[0m \u001b[0mmax\u001b[0m\u001b[0;34m(\u001b[0m\u001b[0mLongIncrSeq\u001b[0m\u001b[0;34m[\u001b[0m\u001b[0mi\u001b[0m\u001b[0;34m]\u001b[0m\u001b[0;34m,\u001b[0m \u001b[0mlist1\u001b[0m\u001b[0;34m[\u001b[0m\u001b[0mi\u001b[0m\u001b[0;34m]\u001b[0m\u001b[0;34m)\u001b[0m\u001b[0;34m\u001b[0m\u001b[0;34m\u001b[0m\u001b[0m\n\u001b[0m\u001b[1;32m     12\u001b[0m       \u001b[0mprint\u001b[0m\u001b[0;34m(\u001b[0m\u001b[0mLongIncrSeq\u001b[0m\u001b[0;34m)\u001b[0m\u001b[0;34m\u001b[0m\u001b[0;34m\u001b[0m\u001b[0m\n\u001b[1;32m     13\u001b[0m \u001b[0;34m\u001b[0m\u001b[0m\n",
            "\u001b[0;31mIndexError\u001b[0m: list index out of range"
          ]
        }
      ]
    },
    {
      "cell_type": "code",
      "source": [
        "# Maximum Product of Two Numbers\n",
        "list1 = [1, 10, -5, 1, 100]\n",
        "\n",
        "max_product = 0\n",
        "\n",
        "for i in range(len(list1)):\n",
        "  for j in range(len(list1)):\n",
        "    if j!=i:\n",
        "      # print(f\"({list1[i]}, {list1[j]})\")\n",
        "      if list1[i]*list1[j] > max_product:\n",
        "        max_product = list1[i]*list1[j]\n",
        "\n",
        "max_product\n"
      ],
      "metadata": {
        "colab": {
          "base_uri": "https://localhost:8080/"
        },
        "id": "ELeDitqhNFts",
        "outputId": "4e775ee1-7710-4c38-a767-1742eca7a6e3"
      },
      "execution_count": 35,
      "outputs": [
        {
          "output_type": "execute_result",
          "data": {
            "text/plain": [
              "1000"
            ]
          },
          "metadata": {},
          "execution_count": 35
        }
      ]
    },
    {
      "cell_type": "code",
      "source": [
        "# Frequency of Characters in String\n",
        "string1 = \"aabbbc\"\n",
        "\n",
        "maxFreqChar = \"\"\n",
        "maxFreq = 0\n",
        "\n",
        "for char in string1:\n",
        "  charFreq = string1.count(char)\n",
        "  if charFreq > maxFreq:\n",
        "    maxFreq = charFreq\n",
        "    maxFreqChar = char\n",
        "\n",
        "\n",
        "maxFreqChar"
      ],
      "metadata": {
        "colab": {
          "base_uri": "https://localhost:8080/",
          "height": 36
        },
        "id": "d_RLlcQiPkbK",
        "outputId": "b8761351-d848-4744-ac69-93cdf2f40821"
      },
      "execution_count": 36,
      "outputs": [
        {
          "output_type": "execute_result",
          "data": {
            "text/plain": [
              "'b'"
            ],
            "application/vnd.google.colaboratory.intrinsic+json": {
              "type": "string"
            }
          },
          "metadata": {},
          "execution_count": 36
        }
      ]
    },
    {
      "cell_type": "code",
      "source": [
        "# Print Prime Numbers Less Than N\n",
        "\n",
        "def printAllPrime(user_input):\n",
        "  for i in range(2, user_input): #skipping 0 and 1\n",
        "    for j in range(2, i):\n",
        "      # print(f\"{i} % {j} = {i%j}\")\n",
        "      if i%j == 0:\n",
        "        break\n",
        "    else: # This else is for the 'for j' loop\n",
        "      print(i)\n",
        "  return\n",
        "\n",
        "try:\n",
        "  input_number = int(input())\n",
        "  printAllPrime(input_number)\n",
        "except ValueError:\n",
        "  print(\"Invalid input\")"
      ],
      "metadata": {
        "colab": {
          "base_uri": "https://localhost:8080/"
        },
        "id": "dBuaX1oaQik2",
        "outputId": "eaa3910d-4b9b-4e04-bb94-a11de396090b"
      },
      "execution_count": 37,
      "outputs": [
        {
          "output_type": "stream",
          "name": "stdout",
          "text": [
            "3\n",
            "2\n"
          ]
        }
      ]
    },
    {
      "cell_type": "code",
      "source": [
        "# Sum of Variable-Length Arguments\n",
        "def variable_args(*args):\n",
        "  return sum(args)\n",
        "\n",
        "total = variable_args(2, 3, 4)\n",
        "total"
      ],
      "metadata": {
        "colab": {
          "base_uri": "https://localhost:8080/"
        },
        "id": "2LPbXlnSjCvD",
        "outputId": "4f4cc517-26b7-4b92-f3b4-6aee3f9a47fc"
      },
      "execution_count": 38,
      "outputs": [
        {
          "output_type": "execute_result",
          "data": {
            "text/plain": [
              "9"
            ]
          },
          "metadata": {},
          "execution_count": 38
        }
      ]
    },
    {
      "cell_type": "code",
      "source": [
        "# Find the Student with Highest Score\n",
        "students =  {\"Alice\": 85, \"Bob\": 90, \"Charlie\": 92}\n",
        "\n",
        "for std in students:\n",
        "  if students[std] == max(students.values()):\n",
        "    print(std)"
      ],
      "metadata": {
        "colab": {
          "base_uri": "https://localhost:8080/"
        },
        "id": "_O1u2duff5FO",
        "outputId": "3ee2d42c-9c00-46de-a394-961d7aac511f"
      },
      "execution_count": 39,
      "outputs": [
        {
          "output_type": "stream",
          "name": "stdout",
          "text": [
            "Charlie\n"
          ]
        }
      ]
    },
    {
      "cell_type": "code",
      "source": [
        "# Apply Lambda to List\n",
        "list1 = input(\"Enter list number with space: \").split()\n",
        "lamdastr  = input(\"Enter lambda function: \")\n",
        "\n",
        "def lambdaFunc(userList, lambdaStr):\n",
        "  userList = list(map(int,userList)) #coverting each element of the list to int and then converting it back to list\n",
        "  lambdaFunc = eval(\"lambda x:\"+lambdaStr)\n",
        "  return list(map(lambdaFunc,userList))\n",
        "\n",
        "lambdaFunc(list1, lamdastr)\n"
      ],
      "metadata": {
        "colab": {
          "base_uri": "https://localhost:8080/"
        },
        "id": "1KLcmBgv4BRL",
        "outputId": "1909b1b8-a9eb-4734-a4b0-8ccae6c5c087"
      },
      "execution_count": 40,
      "outputs": [
        {
          "name": "stdout",
          "output_type": "stream",
          "text": [
            "Enter list number with space: 1 2 3 4 5\n",
            "Enter lambda function: x**2\n"
          ]
        },
        {
          "output_type": "execute_result",
          "data": {
            "text/plain": [
              "[1, 4, 9, 16, 25]"
            ]
          },
          "metadata": {},
          "execution_count": 40
        }
      ]
    },
    {
      "cell_type": "code",
      "source": [
        "# Sum or Multiply Based on Keyword Argument\n",
        "def variable_args(*args):\n",
        "  if args[1] == 'multiply':\n",
        "    print(\"Performing multiplication\")\n",
        "    result = 1\n",
        "    for i in range(len(args[0])):\n",
        "      args[0][i] = int(args[0][i])\n",
        "      result *= args[0][i]\n",
        "    return result\n",
        "  else:\n",
        "    print(\"Performing addition\")\n",
        "    for i in range(len(args[0])):\n",
        "      args[0][i] = int(args[0][i])\n",
        "    return sum(args[0])\n",
        "\n",
        "list1 = input(\"Enter list number with space: \").split()\n",
        "operation = input('Type \"multiply\" to multiply the input: ')\n",
        "result = variable_args(list1, operation)\n",
        "result"
      ],
      "metadata": {
        "colab": {
          "base_uri": "https://localhost:8080/"
        },
        "id": "IGnwHQcHEcef",
        "outputId": "69af49eb-d7a6-45d8-c68f-17b4a70e1d4e"
      },
      "execution_count": 41,
      "outputs": [
        {
          "output_type": "stream",
          "name": "stdout",
          "text": [
            "Enter list number with space: 1 2 3 4 5 6 7\n",
            "Type \"multiply\" to multiply the input: \n",
            "Performing addition\n"
          ]
        },
        {
          "output_type": "execute_result",
          "data": {
            "text/plain": [
              "28"
            ]
          },
          "metadata": {},
          "execution_count": 41
        }
      ]
    },
    {
      "cell_type": "code",
      "source": [],
      "metadata": {
        "id": "bw3QVYNjJ_ZU"
      },
      "execution_count": null,
      "outputs": []
    }
  ]
}