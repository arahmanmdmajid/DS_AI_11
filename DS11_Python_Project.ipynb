{
  "nbformat": 4,
  "nbformat_minor": 0,
  "metadata": {
    "colab": {
      "provenance": [],
      "collapsed_sections": [
        "6kuNe_YxAW1b",
        "ILiJ8eTFAe42"
      ],
      "mount_file_id": "1EjK4fPauKhEQomODk3RnEwPg1tfYTwvP",
      "authorship_tag": "ABX9TyNd2lTLg4djjdQqvTn8UggK",
      "include_colab_link": true
    },
    "kernelspec": {
      "name": "python3",
      "display_name": "Python 3"
    },
    "language_info": {
      "name": "python"
    }
  },
  "cells": [
    {
      "cell_type": "markdown",
      "metadata": {
        "id": "view-in-github",
        "colab_type": "text"
      },
      "source": [
        "<a href=\"https://colab.research.google.com/github/arahmanmdmajid/DS_AI_11/blob/main/DS11_Python_Project.ipynb\" target=\"_parent\"><img src=\"https://colab.research.google.com/assets/colab-badge.svg\" alt=\"Open In Colab\"/></a>"
      ]
    },
    {
      "cell_type": "markdown",
      "source": [
        "#Console-based school portal system"
      ],
      "metadata": {
        "id": "6kuNe_YxAW1b"
      }
    },
    {
      "cell_type": "code",
      "execution_count": 2,
      "metadata": {
        "colab": {
          "base_uri": "https://localhost:8080/"
        },
        "id": "pZOPGFomkXby",
        "outputId": "35d38dde-7e1e-4ffd-9e71-12c7c504ae14"
      },
      "outputs": [
        {
          "output_type": "stream",
          "name": "stdout",
          "text": [
            "\n",
            "Main Menu:\n",
            "Select a suitable option:\n",
            "1. Add a student.\n",
            "2. Update a student's grade.\n",
            "3. Generate a student's report.\n",
            "4. Save data to a file.\n",
            "5. Load data from a file.\n",
            "6. Exit the program.\n",
            "Enter your choice: 3\n",
            "Enter student id: 5\n",
            "[{'student_id': '1', 'name': 'Ali Khan', 'age': '16', 'class': '10th', 'subjects': ['Math', 'Physics'], 'marks': {'Math': 85, 'Physics': 78}}, {'student_id': '2', 'name': 'Ayesha Ahmed', 'age': '15', 'class': '9th', 'subjects': ['Biology', 'Chemistry'], 'marks': {'Biology': 92, 'Chemistry': 88}}, {'student_id': '3', 'name': 'asd', 'age': '23', 'class': '8', 'subjects': ['asd', 'asd', 'asd'], 'marks': {'asd': 23.0}}, {'student_id': '4', 'name': 'asd', 'age': '23', 'class': '8', 'subjects': ['asd', 'asd', 'asd'], 'marks': {'asd': 45.0}}, {'student_id': '5', 'name': 'asd', 'age': '23', 'class': '8', 'subjects': ['asd', 'fgh', 'hkl'], 'marks': {'asd': 45.0, 'fgh': 56.0, 'hkl': 67.0}}]\n",
            "---------------------------------------------\n",
            "The report card for asd is as follows,\n",
            "Student ID: 5\n",
            "Name: asd\n",
            "Age: 23\n",
            "Class: 8\n",
            "asd: 45.0\n",
            "fgh: 56.0\n",
            "hkl: 67.0\n",
            "Report card generated successfully!\n",
            "---------------------------------------------\n",
            "\n",
            "Main Menu:\n",
            "Select a suitable option:\n",
            "1. Add a student.\n",
            "2. Update a student's grade.\n",
            "3. Generate a student's report.\n",
            "4. Save data to a file.\n",
            "5. Load data from a file.\n",
            "6. Exit the program.\n",
            "Enter your choice: 1\n",
            "Enter student name: dfg\n",
            "Enter student age: 56\n",
            "Enter student class: 67\n",
            "Enter subjects (comma-separated): fgh,rty,wer\n",
            "Enter mark for fgh: 56\n",
            "Enter mark for rty: 67\n",
            "Enter mark for wer: 89\n",
            "Student record added successfully!\n",
            "\n",
            "Main Menu:\n",
            "Select a suitable option:\n",
            "1. Add a student.\n",
            "2. Update a student's grade.\n",
            "3. Generate a student's report.\n",
            "4. Save data to a file.\n",
            "5. Load data from a file.\n",
            "6. Exit the program.\n",
            "Enter your choice: 3\n",
            "Enter student id: 6\n",
            "[{'student_id': '1', 'name': 'Ali Khan', 'age': '16', 'class': '10th', 'subjects': ['Math', 'Physics'], 'marks': {'Math': 85, 'Physics': 78}}, {'student_id': '2', 'name': 'Ayesha Ahmed', 'age': '15', 'class': '9th', 'subjects': ['Biology', 'Chemistry'], 'marks': {'Biology': 92, 'Chemistry': 88}}, {'student_id': '3', 'name': 'asd', 'age': '23', 'class': '8', 'subjects': ['asd', 'asd', 'asd'], 'marks': {'asd': 23.0}}, {'student_id': '4', 'name': 'asd', 'age': '23', 'class': '8', 'subjects': ['asd', 'asd', 'asd'], 'marks': {'asd': 45.0}}, {'student_id': '5', 'name': 'asd', 'age': '23', 'class': '8', 'subjects': ['asd', 'fgh', 'hkl'], 'marks': {'asd': 45.0, 'fgh': 56.0, 'hkl': 67.0}}, {'student_id': '6', 'name': 'dfg', 'age': '56', 'class': '67', 'subjects': ['fgh', 'rty', 'wer'], 'marks': {'fgh': 56.0, 'rty': 67.0, 'wer': 89.0}}]\n",
            "---------------------------------------------\n",
            "The report card for dfg is as follows,\n",
            "Student ID: 6\n",
            "Name: dfg\n",
            "Age: 56\n",
            "Class: 67\n",
            "fgh: 56.0\n",
            "rty: 67.0\n",
            "wer: 89.0\n",
            "Report card generated successfully!\n",
            "---------------------------------------------\n",
            "\n",
            "Main Menu:\n",
            "Select a suitable option:\n",
            "1. Add a student.\n",
            "2. Update a student's grade.\n",
            "3. Generate a student's report.\n",
            "4. Save data to a file.\n",
            "5. Load data from a file.\n",
            "6. Exit the program.\n",
            "Enter your choice: 6\n",
            "Exiting the program. Goodbye!\n"
          ]
        }
      ],
      "source": [
        "\n",
        "import csv\n",
        "student_records = []\n",
        "\n",
        "def add_student():\n",
        "  name = input(\"Enter student name: \")\n",
        "  age = input(\"Enter student age: \")\n",
        "  grade = input(\"Enter student class: \")\n",
        "  subjects = input(\"Enter subjects (comma-separated): \")\n",
        "\n",
        "  subject_list =[]\n",
        "  marks_dict = {}\n",
        "\n",
        "  for subject in subjects.split(','):\n",
        "    sub = subject.strip()\n",
        "    mark_input = input(f\"Enter mark for {sub}: \")\n",
        "    marks_dict[sub] = float(mark_input.strip())\n",
        "    subject_list.append(sub)\n",
        "\n",
        "\n",
        "  student_id = len(student_records) + 1 ##total number of students + 1 to get a unique number\n",
        "  new_student = {\n",
        "      'student_id': student_id,\n",
        "      'name': name,\n",
        "      'age': age,\n",
        "      'class': grade,\n",
        "      'subjects': subject_list,\n",
        "      'marks': marks_dict,\n",
        "  }\n",
        "\n",
        "  student_records.append(new_student)\n",
        "  save_data()\n",
        "  print(\"Student record added successfully!\")\n",
        "\n",
        "def view_grade():\n",
        "  try:\n",
        "    student_id = int(input(\"Enter student id: \"))\n",
        "  except ValueError:\n",
        "    print(\"Invalid input. Please enter a valid student ID.\")\n",
        "    return\n",
        "\n",
        "  for student in student_records:\n",
        "    if student['student_id'] == student_id:\n",
        "      for sub in student['marks']:\n",
        "        print(f\"{sub}: {student['marks'][sub]}\")\n",
        "      return\n",
        "  else:\n",
        "    print(\"Student not found.\")\n",
        "\n",
        "def add_grade():\n",
        "  try:\n",
        "    student_id = int(input(\"Enter student id: \"))\n",
        "  except ValueError:\n",
        "    print(\"Invalid input. Please enter a valid student ID.\")\n",
        "    return\n",
        "\n",
        "  for student in student_records:\n",
        "    if student['student_id'] == student_id:\n",
        "      print(f\"The subjects and their marks for {student['name']} are as follows,\")\n",
        "      for sub in student['marks']:\n",
        "        print(f\"{sub}: {student['marks'][sub]}\")\n",
        "      new_subject = input(\"Enter the subject name that you want to add to the student's record: \")\n",
        "      if new_subject == '':\n",
        "        print(\"No subject added.\")\n",
        "        return\n",
        "      else:\n",
        "        new_marks = input(f\"Enter mark for {new_subject}: \")\n",
        "        new_addition = {new_subject: new_marks}\n",
        "        student['marks'].update(new_addition)\n",
        "        print(\"Subject added successfully!\")\n",
        "        print(student['marks'])\n",
        "        return\n",
        "  else:\n",
        "    print(\"Student not found.\")\n",
        "\n",
        "def update_grade():\n",
        "  try:\n",
        "    student_id = int(input(\"Enter student id: \"))\n",
        "  except ValueError:\n",
        "    print(\"Invalid input. Please enter a valid student ID.\")\n",
        "    return\n",
        "\n",
        "  for student in student_records:\n",
        "    if student['student_id'] == student_id:\n",
        "      for sub in student['marks']:\n",
        "        new_marks = input(f\"The current mark for {sub} are {student['marks'][sub]}. Enter new mark or hit enter to skip: \")\n",
        "        if new_marks == '':\n",
        "          continue\n",
        "        else:\n",
        "          student['marks'][sub] = int(new_marks)\n",
        "\n",
        "      print(\"Grade updated successfully!\")\n",
        "      return\n",
        "\n",
        "  else:\n",
        "    print(\"Student not found.\")\n",
        "\n",
        "def generate_report():\n",
        "  load_data()\n",
        "  try:\n",
        "    student_id = input(\"Enter student id: \")\n",
        "  except ValueError:\n",
        "    print(\"Invalid input. Please enter a valid student ID.\")\n",
        "    return\n",
        "\n",
        "  for student in student_records:\n",
        "    if student['student_id'] == student_id:\n",
        "      print(\"---------------------------------------------\")\n",
        "      print(f\"The report card for {student['name']} is as follows,\")\n",
        "      print(f\"Student ID: {student['student_id']}\")\n",
        "      print(f\"Name: {student['name']}\")\n",
        "      print(f\"Age: {student['age']}\")\n",
        "      print(f\"Class: {student['class']}\")\n",
        "\n",
        "      for sub in student['marks']:\n",
        "        print(f\"{sub}: {student['marks'][sub]}\")\n",
        "\n",
        "      print(\"Report card generated successfully!\")\n",
        "\n",
        "      print(\"---------------------------------------------\")\n",
        "\n",
        "      return\n",
        "  else:\n",
        "    print(\"Student not found.\")\n",
        "\n",
        "def save_data():\n",
        "  try:\n",
        "    with open(r\"/content/drive/MyDrive/Atomcamp DS&AI Bootcamp 2025/Python/student_data.csv\", 'w') as file:\n",
        "      writer = csv.writer(file)\n",
        "      writer.writerow(['student_id', 'name', 'age', 'class', 'subjects', 'marks'])\n",
        "      for student in student_records:\n",
        "        writer.writerow([\n",
        "              student['student_id'],\n",
        "              student['name'],\n",
        "              student['age'],\n",
        "              student['class'],\n",
        "              ', '.join(student['subjects']),\n",
        "              str(student['marks'])\n",
        "          ])\n",
        "  except Exception as e:\n",
        "    print(f\"An error occurred while saving data: {e}\")\n",
        "\n",
        "def load_data(file_path=r\"/content/drive/MyDrive/Atomcamp DS&AI Bootcamp 2025/Python/student_data.csv\"):\n",
        "  try:\n",
        "    with open(file_path) as file:\n",
        "      reader = csv.reader(file)\n",
        "      next(reader, None)\n",
        "      global student_records\n",
        "      student_records = []\n",
        "      subjects = []\n",
        "      for row in reader:\n",
        "        for subject in row[4].split(','):\n",
        "          sub = subject.strip()\n",
        "          subjects.append(sub)\n",
        "        new_student = {\n",
        "            'student_id': row[0],\n",
        "            'name': row[1],\n",
        "            'age': row[2],\n",
        "            'class': row[3],\n",
        "            'subjects': subjects,\n",
        "            'marks': eval(row[5])}\n",
        "        student_records.append(new_student)\n",
        "        subjects = []\n",
        "    print(\"Data loaded from CSV successfully!\")\n",
        "  except FileNotFoundError:\n",
        "    print(\"Error: CSV file not found.\")\n",
        "  except Exception as e:\n",
        "    print(f\"An error occurred while loading data: {e}\")\n",
        "\n",
        "def main_menu():\n",
        "  while True:\n",
        "    print(\"\\nMain Menu:\")\n",
        "    print(\"Select a suitable option:\")\n",
        "    print(\"1. Add a student.\")\n",
        "    print(\"2. Update a student's grade.\")\n",
        "    print(\"3. Generate a student's report.\")\n",
        "    print(\"4. Save data to a file.\")\n",
        "    print(\"5. Load data from a file.\")\n",
        "    print(\"6. Exit the program.\")\n",
        "    choice = input(\"Enter your choice: \")\n",
        "    if choice == '1':\n",
        "      add_student()\n",
        "    elif choice == '2':\n",
        "      update_grade()\n",
        "    elif choice == '3':\n",
        "      generate_report()\n",
        "    elif choice == '4':\n",
        "      save_data()\n",
        "      print(\"Data saved to CSV successfully!\")\n",
        "    elif choice == '5':\n",
        "      file_path = input(\"Enter the file path: \")\n",
        "      if file_path == '':\n",
        "        load_data()\n",
        "      else:\n",
        "        load_data(file_path)\n",
        "    elif choice == '6':\n",
        "      print(\"Exiting the program. Goodbye!\")\n",
        "      break\n",
        "    else:\n",
        "      print(\"Invalid choice. Please select a valid option.\")\n",
        "\n",
        "load_data()\n",
        "main_menu()\n"
      ]
    },
    {
      "cell_type": "markdown",
      "source": [
        "#LeetCode Practice Questions Relevant to the Project"
      ],
      "metadata": {
        "id": "ILiJ8eTFAe42"
      }
    },
    {
      "cell_type": "code",
      "source": [
        "# Reverse a List\n",
        "students = ['John', 'Peter', 'Zainab', 'Aziz']\n",
        "\n",
        "students.reverse()\n",
        "print(students)"
      ],
      "metadata": {
        "colab": {
          "base_uri": "https://localhost:8080/"
        },
        "id": "S-UZP-hsAVif",
        "outputId": "803df8b9-72cd-4915-d7a9-e0158748aee9"
      },
      "execution_count": 3,
      "outputs": [
        {
          "output_type": "stream",
          "name": "stdout",
          "text": [
            "['Aziz', 'Zainab', 'Peter', 'John']\n"
          ]
        }
      ]
    },
    {
      "cell_type": "code",
      "source": [
        "grades = {'Math': 90, 'Science': 85, 'History': 78}\n",
        "\n",
        "def max_grade(grades):\n",
        "  max_subject = max(grades, key=grades.get)\n",
        "  return max_subject, grades[max_subject]\n",
        "\n",
        "max_subject, max_grade = max_grade(grades)\n",
        "print(f\"The subject with the highest grade is {max_subject} with a grade of {max_grade}.\")"
      ],
      "metadata": {
        "colab": {
          "base_uri": "https://localhost:8080/"
        },
        "id": "bW1qGfxLA_is",
        "outputId": "c7f6c346-f068-4576-de69-ef8b99af1e94"
      },
      "execution_count": 4,
      "outputs": [
        {
          "output_type": "stream",
          "name": "stdout",
          "text": [
            "The subject with the highest grade is Math with a grade of 90.\n"
          ]
        }
      ]
    },
    {
      "cell_type": "code",
      "source": [
        "# Count Occurrences of a Grade\n",
        "\n",
        "grades_list = ['Math', 'Science', 'Math', 'History', 'Science', 'Math']\n",
        "\n",
        "def count_grades(grades_list, grade_to_count):\n",
        "  return grades_list.count(grade_to_count)\n",
        "\n",
        "count_grades(grades_list, 'Science')"
      ],
      "metadata": {
        "colab": {
          "base_uri": "https://localhost:8080/"
        },
        "id": "ovk-bOARGUTx",
        "outputId": "3d4c8270-efb6-41e6-9be4-eb1e61576e01"
      },
      "execution_count": 8,
      "outputs": [
        {
          "output_type": "execute_result",
          "data": {
            "text/plain": [
              "2"
            ]
          },
          "metadata": {},
          "execution_count": 8
        }
      ]
    },
    {
      "cell_type": "code",
      "source": [
        "# Find a Student by ID\n",
        "\n",
        "students = [{'student_id': '1', 'name': 'Ali Khan', 'age': '16', 'class': '10th', 'subjects': ['Math', 'Physics'], 'marks': {'Math': 85, 'Physics': 78}}, {'student_id': '2', 'name': 'Ayesha Ahmed', 'age': '15', 'class': '9th', 'subjects': ['Biology', 'Chemistry'], 'marks': {'Biology': 92, 'Chemistry': 88}}, {'student_id': '3', 'name': 'asd', 'age': '23', 'class': '8', 'subjects': ['asd', 'asd', 'asd'], 'marks': {'asd': 23.0}}, {'student_id': '4', 'name': 'asd', 'age': '23', 'class': '8', 'subjects': ['asd', 'asd', 'asd'], 'marks': {'asd': 45.0}}, {'student_id': '5', 'name': 'asd', 'age': '23', 'class': '8', 'subjects': ['asd', 'fgh', 'hkl'], 'marks': {'asd': 45.0, 'fgh': 56.0, 'hkl': 67.0}}, {'student_id': '6', 'name': 'dfg', 'age': '56', 'class': '67', 'subjects': ['fgh', 'rty', 'wer'], 'marks': {'fgh': 56.0, 'rty': 67.0, 'wer': 89.0}}]\n",
        "\n",
        "\n",
        "def find_student_by_id(student_id):\n",
        "  # Your solution here\n",
        "  for student in students:\n",
        "    if student['student_id'] == student_id:\n",
        "      return student\n",
        "  return None\n",
        "\n",
        "find_student_by_id('3')"
      ],
      "metadata": {
        "colab": {
          "base_uri": "https://localhost:8080/"
        },
        "id": "TNwCPlu2IQy8",
        "outputId": "56bc555a-383c-4307-d4c3-773682d47170"
      },
      "execution_count": 9,
      "outputs": [
        {
          "output_type": "execute_result",
          "data": {
            "text/plain": [
              "{'student_id': '3',\n",
              " 'name': 'asd',\n",
              " 'age': '23',\n",
              " 'class': '8',\n",
              " 'subjects': ['asd', 'asd', 'asd'],\n",
              " 'marks': {'asd': 23.0}}"
            ]
          },
          "metadata": {},
          "execution_count": 9
        }
      ]
    }
  ]
}