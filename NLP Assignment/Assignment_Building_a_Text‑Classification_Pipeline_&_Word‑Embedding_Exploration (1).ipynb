{
  "cells": [
    {
      "cell_type": "markdown",
      "metadata": {
        "id": "JIvKb23SqPxN"
      },
      "source": [
        "\n",
        "# Project Overview\n",
        "\n",
        "**Title**: Movie Review Sentiment Classification\n",
        "\n",
        "**Use Case**: A new streaming platform wants to automatically classify user reviews to better understand their sentiments.\n",
        "\n",
        "**Stakeholder**: Product team, Development team and Shareholders.\n",
        "\n"
      ]
    },
    {
      "cell_type": "code",
      "execution_count": 3,
      "metadata": {
        "colab": {
          "base_uri": "https://localhost:8080/",
          "height": 717
        },
        "id": "_vfGqK0QuE4R",
        "outputId": "dee81101-6dbb-4000-d6f3-eb2800ef8665"
      },
      "outputs": [
        {
          "output_type": "stream",
          "name": "stdout",
          "text": [
            "Collecting gensim\n",
            "  Downloading gensim-4.3.3-cp311-cp311-manylinux_2_17_x86_64.manylinux2014_x86_64.whl.metadata (8.1 kB)\n",
            "Collecting numpy<2.0,>=1.18.5 (from gensim)\n",
            "  Downloading numpy-1.26.4-cp311-cp311-manylinux_2_17_x86_64.manylinux2014_x86_64.whl.metadata (61 kB)\n",
            "\u001b[2K     \u001b[90m━━━━━━━━━━━━━━━━━━━━━━━━━━━━━━━━━━━━━━━━\u001b[0m \u001b[32m61.0/61.0 kB\u001b[0m \u001b[31m3.4 MB/s\u001b[0m eta \u001b[36m0:00:00\u001b[0m\n",
            "\u001b[?25hCollecting scipy<1.14.0,>=1.7.0 (from gensim)\n",
            "  Downloading scipy-1.13.1-cp311-cp311-manylinux_2_17_x86_64.manylinux2014_x86_64.whl.metadata (60 kB)\n",
            "\u001b[2K     \u001b[90m━━━━━━━━━━━━━━━━━━━━━━━━━━━━━━━━━━━━━━━━\u001b[0m \u001b[32m60.6/60.6 kB\u001b[0m \u001b[31m3.5 MB/s\u001b[0m eta \u001b[36m0:00:00\u001b[0m\n",
            "\u001b[?25hRequirement already satisfied: smart-open>=1.8.1 in /usr/local/lib/python3.11/dist-packages (from gensim) (7.3.0.post1)\n",
            "Requirement already satisfied: wrapt in /usr/local/lib/python3.11/dist-packages (from smart-open>=1.8.1->gensim) (1.17.2)\n",
            "Downloading gensim-4.3.3-cp311-cp311-manylinux_2_17_x86_64.manylinux2014_x86_64.whl (26.7 MB)\n",
            "\u001b[2K   \u001b[90m━━━━━━━━━━━━━━━━━━━━━━━━━━━━━━━━━━━━━━━━\u001b[0m \u001b[32m26.7/26.7 MB\u001b[0m \u001b[31m61.5 MB/s\u001b[0m eta \u001b[36m0:00:00\u001b[0m\n",
            "\u001b[?25hDownloading numpy-1.26.4-cp311-cp311-manylinux_2_17_x86_64.manylinux2014_x86_64.whl (18.3 MB)\n",
            "\u001b[2K   \u001b[90m━━━━━━━━━━━━━━━━━━━━━━━━━━━━━━━━━━━━━━━━\u001b[0m \u001b[32m18.3/18.3 MB\u001b[0m \u001b[31m78.3 MB/s\u001b[0m eta \u001b[36m0:00:00\u001b[0m\n",
            "\u001b[?25hDownloading scipy-1.13.1-cp311-cp311-manylinux_2_17_x86_64.manylinux2014_x86_64.whl (38.6 MB)\n",
            "\u001b[2K   \u001b[90m━━━━━━━━━━━━━━━━━━━━━━━━━━━━━━━━━━━━━━━━\u001b[0m \u001b[32m38.6/38.6 MB\u001b[0m \u001b[31m17.4 MB/s\u001b[0m eta \u001b[36m0:00:00\u001b[0m\n",
            "\u001b[?25hInstalling collected packages: numpy, scipy, gensim\n",
            "  Attempting uninstall: numpy\n",
            "    Found existing installation: numpy 2.0.2\n",
            "    Uninstalling numpy-2.0.2:\n",
            "      Successfully uninstalled numpy-2.0.2\n",
            "  Attempting uninstall: scipy\n",
            "    Found existing installation: scipy 1.16.0\n",
            "    Uninstalling scipy-1.16.0:\n",
            "      Successfully uninstalled scipy-1.16.0\n",
            "\u001b[31mERROR: pip's dependency resolver does not currently take into account all the packages that are installed. This behaviour is the source of the following dependency conflicts.\n",
            "tsfresh 0.21.0 requires scipy>=1.14.0; python_version >= \"3.10\", but you have scipy 1.13.1 which is incompatible.\n",
            "thinc 8.3.6 requires numpy<3.0.0,>=2.0.0, but you have numpy 1.26.4 which is incompatible.\n",
            "opencv-contrib-python 4.12.0.88 requires numpy<2.3.0,>=2; python_version >= \"3.9\", but you have numpy 1.26.4 which is incompatible.\n",
            "opencv-python 4.12.0.88 requires numpy<2.3.0,>=2; python_version >= \"3.9\", but you have numpy 1.26.4 which is incompatible.\n",
            "opencv-python-headless 4.12.0.88 requires numpy<2.3.0,>=2; python_version >= \"3.9\", but you have numpy 1.26.4 which is incompatible.\u001b[0m\u001b[31m\n",
            "\u001b[0mSuccessfully installed gensim-4.3.3 numpy-1.26.4 scipy-1.13.1\n"
          ]
        },
        {
          "output_type": "display_data",
          "data": {
            "application/vnd.colab-display-data+json": {
              "pip_warning": {
                "packages": [
                  "numpy",
                  "scipy"
                ]
              },
              "id": "765fd8bb012b46328e4e6b260c7ed6c0"
            }
          },
          "metadata": {}
        }
      ],
      "source": [
        "!pip install gensim"
      ]
    },
    {
      "cell_type": "code",
      "execution_count": 25,
      "metadata": {
        "id": "a2KD5Dx6tp49"
      },
      "outputs": [],
      "source": [
        "import os\n",
        "import random\n",
        "import numpy as np\n",
        "import pandas as pd\n",
        "import matplotlib.pyplot as plt\n",
        "import seaborn as sns\n",
        "\n",
        "import nltk\n",
        "import re\n",
        "from nltk.corpus import stopwords\n",
        "from nltk.stem import WordNetLemmatizer, PorterStemmer\n",
        "from nltk.tokenize import word_tokenize\n",
        "\n",
        "from sklearn.model_selection import train_test_split\n",
        "from sklearn.feature_extraction.text import CountVectorizer, TfidfVectorizer\n",
        "from sklearn.naive_bayes import MultinomialNB\n",
        "from sklearn.linear_model import LogisticRegression\n",
        "from sklearn.svm import LinearSVC\n",
        "from sklearn.pipeline import Pipeline\n",
        "from sklearn.metrics import classification_report, confusion_matrix\n",
        "from sklearn.decomposition import PCA\n",
        "\n",
        "import tarfile\n",
        "import pickle\n",
        "from pathlib import Path\n",
        "from tqdm import tqdm\n",
        "\n",
        "import gensim.downloader as api\n",
        "from gensim.models import Word2Vec"
      ]
    },
    {
      "cell_type": "code",
      "execution_count": 2,
      "metadata": {
        "id": "dixAgZO9twp9"
      },
      "outputs": [],
      "source": [
        "# Seed for random operations\n",
        "SEED = 42\n",
        "random.seed(SEED)\n",
        "np.random.seed(SEED)"
      ]
    },
    {
      "cell_type": "code",
      "execution_count": 3,
      "metadata": {
        "colab": {
          "base_uri": "https://localhost:8080/"
        },
        "id": "Tja5vy2ot3Ej",
        "outputId": "0bdb2a0d-5c95-40e5-b58d-86622c226584"
      },
      "outputs": [
        {
          "output_type": "stream",
          "name": "stderr",
          "text": [
            "[nltk_data] Downloading package punkt to /root/nltk_data...\n",
            "[nltk_data]   Unzipping tokenizers/punkt.zip.\n",
            "[nltk_data] Downloading package punkt_tab to /root/nltk_data...\n",
            "[nltk_data]   Unzipping tokenizers/punkt_tab.zip.\n",
            "[nltk_data] Downloading package stopwords to /root/nltk_data...\n",
            "[nltk_data]   Unzipping corpora/stopwords.zip.\n",
            "[nltk_data] Downloading package wordnet to /root/nltk_data...\n"
          ]
        },
        {
          "output_type": "execute_result",
          "data": {
            "text/plain": [
              "True"
            ]
          },
          "metadata": {},
          "execution_count": 3
        }
      ],
      "source": [
        "# Downloading nltk data\n",
        "nltk.download('punkt')\n",
        "nltk.download('punkt_tab')\n",
        "nltk.download('stopwords')\n",
        "nltk.download('wordnet')"
      ]
    },
    {
      "cell_type": "code",
      "execution_count": 4,
      "metadata": {
        "colab": {
          "base_uri": "https://localhost:8080/"
        },
        "id": "dlMPo8MPxjTo",
        "outputId": "0829f887-68f4-4ba7-c35e-ad1faf3eae0d"
      },
      "outputs": [
        {
          "output_type": "stream",
          "name": "stdout",
          "text": [
            "Extracting IMDb dataset...\n"
          ]
        }
      ],
      "source": [
        "dataset_path = Path(\"/content/aclImdb\")\n",
        "archive_path = \"/content/drive/MyDrive/Atomcamp DS&AI Bootcamp 2025/NLP/aclImdb_v1.tar.gz\"\n",
        "\n",
        "# Extract zip file if not already done\n",
        "if not dataset_path.exists():\n",
        "    print(\"Extracting IMDb dataset...\")\n",
        "    with tarfile.open(archive_path, \"r:gz\") as tar:\n",
        "        tar.extractall(path=\"/content/\")\n",
        "else:\n",
        "    print(\"Dataset already extracted.\")"
      ]
    },
    {
      "cell_type": "code",
      "source": [
        "dataset_path"
      ],
      "metadata": {
        "colab": {
          "base_uri": "https://localhost:8080/"
        },
        "id": "VKbfndCoAx1W",
        "outputId": "5031ae85-aad2-4b9a-cc20-8050625311fa"
      },
      "execution_count": 5,
      "outputs": [
        {
          "output_type": "execute_result",
          "data": {
            "text/plain": [
              "PosixPath('/content/aclImdb')"
            ]
          },
          "metadata": {},
          "execution_count": 5
        }
      ]
    },
    {
      "cell_type": "code",
      "source": [
        "# Function to load data from directories\n",
        "\n",
        "def load_imdb_reviews(split=\"train\"):\n",
        "    data = []\n",
        "    labels = []\n",
        "\n",
        "    for label_type in ['pos', 'neg']:\n",
        "        folder = dataset_path / split / label_type\n",
        "        label = 1 if label_type == 'pos' else 0\n",
        "\n",
        "        for file_path in tqdm(list(folder.glob(\"*.txt\")), desc=f\"Loading {label_type}\"):\n",
        "            with open(file_path, encoding='utf-8') as f:\n",
        "                data.append(f.read())\n",
        "                labels.append(label)\n",
        "\n",
        "    return pd.DataFrame({\"review\": data, \"label\": labels})"
      ],
      "metadata": {
        "id": "70dqJllpACTG"
      },
      "execution_count": 6,
      "outputs": []
    },
    {
      "cell_type": "code",
      "source": [
        "# Load training and test data\n",
        "df_train = load_imdb_reviews(\"train\")\n",
        "df_test = load_imdb_reviews(\"test\")"
      ],
      "metadata": {
        "colab": {
          "base_uri": "https://localhost:8080/"
        },
        "id": "rldYU2FKAEvx",
        "outputId": "0113cb32-b1fd-4caf-f367-14c99d886549"
      },
      "execution_count": 7,
      "outputs": [
        {
          "output_type": "stream",
          "name": "stderr",
          "text": [
            "Loading pos: 100%|██████████| 12500/12500 [00:00<00:00, 34509.64it/s]\n",
            "Loading neg: 100%|██████████| 12500/12500 [00:00<00:00, 32333.16it/s]\n",
            "Loading pos: 100%|██████████| 12500/12500 [00:00<00:00, 35649.34it/s]\n",
            "Loading neg: 100%|██████████| 12500/12500 [00:00<00:00, 35173.59it/s]\n"
          ]
        }
      ]
    },
    {
      "cell_type": "code",
      "source": [
        "# Combining datasets to later split manually\n",
        "df = pd.concat([df_train, df_test], ignore_index=True)\n",
        "df = df.sample(frac=1, random_state=SEED).reset_index(drop=True)  # shuffle"
      ],
      "metadata": {
        "id": "2CEIEPmfMfJf"
      },
      "execution_count": 8,
      "outputs": []
    },
    {
      "cell_type": "code",
      "source": [
        "print(\"Dataset Loaded:\")\n",
        "print(df.head())\n",
        "print(df[\"label\"].value_counts())"
      ],
      "metadata": {
        "colab": {
          "base_uri": "https://localhost:8080/"
        },
        "id": "Du4w3M0IMmAB",
        "outputId": "1c7d5525-5da6-4eb5-b9c6-31689cd77c8b"
      },
      "execution_count": 9,
      "outputs": [
        {
          "output_type": "stream",
          "name": "stdout",
          "text": [
            "Dataset Loaded:\n",
            "                                              review  label\n",
            "0  This was my second experience of the Monkey Is...      1\n",
            "1  The next-to-last episode aired of the original...      1\n",
            "2  Brian Yuzna is often frowned upon as a directo...      1\n",
            "3  During the whole Pirates of The Caribbean Tril...      1\n",
            "4  Some slack might be cut this movie due to the ...      0\n",
            "label\n",
            "1    25000\n",
            "0    25000\n",
            "Name: count, dtype: int64\n"
          ]
        }
      ]
    },
    {
      "cell_type": "code",
      "source": [
        "# Printing positive and negative samples from the dataset\n",
        "print(\"\\n Positive Examples:\")\n",
        "print(df[df['label'] == 1].sample(3)['review'].values)\n",
        "\n",
        "print(\"\\n Negative Examples:\")\n",
        "print(df[df['label'] == 0].sample(3)['review'].values)\n"
      ],
      "metadata": {
        "colab": {
          "base_uri": "https://localhost:8080/"
        },
        "id": "uEGrt5G9BTTu",
        "outputId": "bf9cc7a2-d29b-4e76-ca21-4360b8ecec7a"
      },
      "execution_count": 10,
      "outputs": [
        {
          "output_type": "stream",
          "name": "stdout",
          "text": [
            "\n",
            " Positive Examples:\n",
            "[\"Joe Don Baker is one of a handful of actors who is often better than his material, and almost always under appreciated. He's been in a ton of films either as a heavy or a hero, and has the type of strong, solid presence that Wallace Beery did half a century before him. Baker can delivery material that would sound ridiculous coming out of another actor, and that's what's so great about him. He really seems to mean what he's saying, regardless of how cliché, obvious or silly, which puts him in a league with Tommy Lee Jones, Oliver Reed and Don Stroud. It's what made the WALKING TALL Trilogy work so well, and that same magic is here in FINAL JUSTICE. This was a substantial hit in theaters and on video in the 80s, and it has aged a lot better than many of the perhaps better known action flicks of the era. By moving the action from Texas to Europe, there's a real timeless quality that doesn't jar you away from the action on screen. To be honest, I've always enjoyed the films of Greydon Clark, who is a no-nonsense director in the same vein as 1970s Clint Eastwood, and this is one of his best. FINAL JUSTICE is one of the lost gems of the late 80s, similar to MAN ON FIRE in its true grit and violence. I suppose if they remake this with The Rock, a whole new audience will come to love it as much as I do.\"\n",
            " 'Since was only a toddler when this show originally aired I just recently picked up the DVD set and am wishing there were more episodes filmed. This show was a 70s version of the poplular 90\\'s TV series \"X-Files\"- but with a bit more of a comedic/light hearted approach. But don\\'t get me wrong, some of these episodes have full on horror themes, many in which have some pretty greuesome plots (left to the imagination of course- this was the early 70s television).<br /><br />Some of the plots where a bit silly as well as the acting, but that is the charm and attraction to this series. Whether you like mystery crime dramas, comedies, or sci-fi/horror themes, this series brought all that together. Each episode clocked in at around 50 minutes or so (1 hour with commercials) and that 50 minutes goes by quick always leaving me wanting more. A great classic show that is underrated in my book!'\n",
            " 'Disgused as an Asian Horror, \"A Tale Of Two Sisters\" is actually a complex character driven psychological drama, that engulfs the viewer into the problems of a seemingly normal family. I was really surprised at the depth of this movie. Director Ji-woon Kim\\'s decision to focus more on telling a story rather than providing cheap scares, has proved a correct one. Creating one of the most ingenious new horror movies.<br /><br />\"A Tale Of Two Sisters\" tels the story, as it\\'s name suggest of two sisters Su-mi and the younger Su-yeon, who after spending time in a mental institution return home to their father and apparently abusive stepmother. From then on we witness how the sisters deal with their stepmother\\'s gradually rising aggression and erratic behavior. To say what would happen next would be to be spoil the entire experience. So I\\'ll just leave it at that.<br /><br />The plot is very tightly written. With the characters nicely fleshed out. Ji-woon Kim\\'s focus on a small cast offers a much more detailed view on them and their relations to one another. Furthermore each of the four main cast has a vastly different role and type of character. From the protective Su-mi, the weaker Su-yeon, the visibly uninterested father to the stepmother\\'s frantic and later deadly behavior. There is great sense of mystery, with a lot of the plot not revealed up into the end and even after that the movie still leaves a great room for interpretation. Even after watching it once, the viewer will be compelled to see it at least once more so that he can gain a better understanding to it.<br /><br />The actors superbly fit their roles. It is especially hard to create strong, emotional scenes in psychological movies but it is a great joy when one succeeds in creating them and this is a prime example of such a feat. Ji-woon Kim\\'s direction is slow paced and gripping, building up tension for the film\\'s horroresque scenes. While few in number those moments are strong and quite frankly terrifying. The cinematography and score are top notch further helping to establish an atmosphere fitting that of a psychological film.<br /><br />\"A Tale Of Two Sisters\" is a demonstration how the horror genre is in fact so much more than a simple thrill ride. With it\\'s strong focus on character and mystery this is one complex movie that could easily seduce you in watching it again and again just so that you can understand it better.']\n",
            "\n",
            " Negative Examples:\n",
            "[\"I fully agree with the previous reviewer. There's no chemistry between Spencer Tracy and Hedy Lamarr, and the focus of the film is on their relationship. Hedy Lamarr isn't at her best, and Spencer Tracy appears to be naive, simple and overly-hopeful -- both in love and life; an idealist role that played out best in 'Boys Town'. If you can make it through the ridiculous crowd scene by the train station...whoa...it's rather slapstick and not worthy of any actor in the cast. Not the best acting on anybody's part. Miscast and mismatched. Story is empty and various and disenfranchised input is apparent. Hedy Lamarr is her absolutely stunning herself, which is truly the best part of the film. Spencer Tracy can't match the sophistication of her beauty and wardrobe, and the film doesn't come off as believable for at least that reason.\"\n",
            " \"CyberTracker is set in Los Angeles sometime in the near future where bodyguard Eric Phillips (co-producer Don 'The Dragon' Wilson) saves senator Robert Dilly (John Aprea) from an assassination attempt by a group known as the UHR, the Union of Human Rights, who are angry at Dilly for spearheading the Computerised Judicial System in which robots called CyberTrackers are sent out to determine & dispense justice on the guilty. Anyway, Eric saves Dilly who is very impressed & decides to see if he can trust Eric in his shady activities like the cold blooded murder of a traitor, being the fine upstanding guy that he is Eric isn't impressed when Dilly kills a woman & he is asked to keep it quiet. Eric escapes & sets out to bring Dilly down, however Dilly has lots of powerful friends & he uses his influence to frame Eric & have his CyberTrackers sent out in pursuit of him...<br /><br />Co-produced & directed by Richard Pepin I think films like CyberTracker give films a bad name, I didn't like it that much at all. The script by Jacobsen Hart is pretty predictable, it doesn't excite, it steals most of it's ideas & theme from other better sci-fi films & the heady mix of martial arts action & sci-fi don't gel that well. There a few fights, some car chases & a couple of shoot outs but it's all rather bland & forgettable. The film lacks imagination considering the film is set in the future & it deals with robots, technology & the way society is run & it's judicial system in particular. Speaking of which the fantastic Robocop (1987) mixed it's violent action & clever social commentary brilliantly but CyberTracker doesn't even try to make any relevant social statement or try to portray any meaningful moral message about law enforcement, the script basically uses the concept to have robots & shoot outs which Robocop did as well but also managed to include a good story. There is very little in CyberTracker that I can say was entertaining & that's what films are about right?<br /><br />Director Pepin does OK but nothing stands out, it's all rather forgettable & it's not particularly exciting. The sci-fi elements are nothing more than the robot side of things & as a whole the film doesn't look that futuristic. The action scenes are alright, there's some exploding cars & some shoot outs but nothing spectacular.<br /><br />Technically CyberTracker is average, for a film supposedly set in the future it already looks dated & the special effects are poor. The acting was bad, I wonder if Don 'The Dragon' Wilson signs cheques with that name?<br /><br />CyberTracker was a waste of my time, there is nothing here original or exciting & the action is instantly forgettable. Poor & that's all that needs to be said, not recommended.\"\n",
            " \"Sholay: Considered to be one of the greatest films. I always wondered if they would ever remake being the classic it is. That was the time RGV announced this movie and I was somewhat excited to see it. I always thought that maybe this will be a good movie, but every week we would here RGV change something. And the movie is a very B-Grade movie, something that I had not hoped.<br /><br />I really tried looking for positives, but I promised to keep Sholay out of my mind. The cinematography is awesome. The movie tries to be its own. But that is the up side. The action sequences are weak. The screenplay had potential. The biggest flaw is editing. None of the scenes excite you. For example, the comedy sequences felt very out of place and forced. Ironic because comedy was just as entertaining in the original. And none of the characters are developed. And no scenes will linger until the end. And the ending was very disappointing.<br /><br />The biggest question is acting. Amitabh Bachchan was good as Gabbar Singh, nothing great. It seemed as if they concentrated too much on his look, that the character only looks menacing, but you don't get creeped out. Mohanlal is barely in the movie, but he impresses in his few scenes. Ajay Devgan was decent. It wasn't so much the performance, he gave it his all, it was the weak script. Prashant Raj is very confident, and has potential to make it far with better movies.<br /><br />I had most expectations for Sushmita Sen, who was probably the best of the lot. She was expressive, but this still was not enough. Nisha Kothari surprised me. She seemed disinterested for the most part, but her emotional scene after her friend's death was quite good. Seems as if she needs to find a director who will help her talent, not her cute looks. But what disappointed me most was chemistry. Ajay Devgan and Prashant Raj didn't look like friends. Ajay-Nisha were not a strong couple. No passion was to be found between Sushmita and Prashant. And Amitabh and Mohanlal did not the hateful passion they needed.<br /><br />As for songs, they pretty much suck. Urmila's Mehbooba was too overblown and I pretty much slept through it. It was however nicely danced. The Holi number was enjoyable, but not memorable. Same went for the other songs. For someone who looked forward to this movie, I was heavily disappointed. I had high hopes for RGV because of his Jungle, but seems as if he lost his talent during the shooting of this movie. But hopefully he regains his talent for Sarkar Raj. But this movie is best forgotten. All the positives still do not make up for the boring movie it is.\"]\n"
          ]
        }
      ]
    },
    {
      "cell_type": "markdown",
      "source": [
        "# Text Preprocessing"
      ],
      "metadata": {
        "id": "f_HFLsfVBqtR"
      }
    },
    {
      "cell_type": "code",
      "source": [
        "# Setting up stop words and lemmatizer\n",
        "\n",
        "stop_words = set(stopwords.words(\"english\"))\n",
        "lemmatizer = WordNetLemmatizer()\n",
        "stemmer = PorterStemmer()"
      ],
      "metadata": {
        "id": "Dabs9gvGBpfx"
      },
      "execution_count": 13,
      "outputs": []
    },
    {
      "cell_type": "code",
      "source": [
        "# Function for Preprocessing\n",
        "\n",
        "def preprocess_text(text):\n",
        "    # Lowercase\n",
        "    text = text.lower()\n",
        "\n",
        "    # Remove HTML tags\n",
        "    text = re.sub(r'<.*?>', '', text)\n",
        "\n",
        "    # Remove punctuation and digits\n",
        "    text = re.sub(r'[^a-z\\s]', '', text)\n",
        "\n",
        "    # Tokenize\n",
        "    tokens = word_tokenize(text)\n",
        "\n",
        "    # Remove stopwords\n",
        "    tokens = [word for word in tokens if word not in stop_words]\n",
        "\n",
        "    # Apply stemming\n",
        "    stemmed_tokens = [stemmer.stem(word) for word in tokens]\n",
        "\n",
        "    # Apply lemmatization\n",
        "    lemmatized_tokens = [lemmatizer.lemmatize(word) for word in stemmed_tokens]\n",
        "\n",
        "    return ' '.join(lemmatized_tokens)"
      ],
      "metadata": {
        "id": "8wyTw4MGB8hs"
      },
      "execution_count": 14,
      "outputs": []
    },
    {
      "cell_type": "code",
      "source": [
        "# Preview of preprocessing\n",
        "\n",
        "sample_text = df['review'].iloc[0]\n",
        "print(\"Original text of a review:\\n\", sample_text[:500])\n",
        "\n",
        "processed = preprocess_text(sample_text)\n",
        "print(\"\\nPreprocessed text:\\n\", processed[:500])"
      ],
      "metadata": {
        "colab": {
          "base_uri": "https://localhost:8080/"
        },
        "id": "NPeYaQKsB-Ph",
        "outputId": "0d5a92eb-684b-4994-a956-99588c42bc87"
      },
      "execution_count": 16,
      "outputs": [
        {
          "output_type": "stream",
          "name": "stdout",
          "text": [
            "Original text of a review:\n",
            " This was my second experience of the Monkey Island series, the full seven years after I had been shown the first game. What was my response? \"Oh, great, we're playing a cartoon.\" I'm glad my brother shut me up then and played on, because the jokes caught my attention once again, as well as Armato's wonderful voice-acting of Guybrush - not to mention everyone else done well (I still think CMI's Elaine sounds better than EMI's). The cutscenes do well to illustrate something happening, and the art \n",
            "\n",
            "Preprocessed text:\n",
            " second experi monkey island seri full seven year shown first game respons oh great play cartoon im glad brother shut play joke caught attent well armato wonder voiceact guybrush mention everyon el done well still think cmi elain sound better emi cutscen well illustr someth happen art game cutscen excel found cd origin secret lechuck reveng ecstat spent hour work reveng one moment sat blew half day howev cmi monkey island game ive play especi return swordfight combat high sea moment encount kenni\n"
          ]
        }
      ]
    },
    {
      "cell_type": "code",
      "source": [
        "# Applying preprocessing to the complete dataset\n",
        "df['cleaned_review'] = df['review'].apply(preprocess_text)\n",
        "\n",
        "print(\"\\n Cleaned dataset preview\")\n",
        "df.head()"
      ],
      "metadata": {
        "colab": {
          "base_uri": "https://localhost:8080/",
          "height": 242
        },
        "id": "YvV3GyfFJ1eZ",
        "outputId": "172f546d-d7a9-4e83-ad91-fee7da9377e0"
      },
      "execution_count": 17,
      "outputs": [
        {
          "output_type": "stream",
          "name": "stdout",
          "text": [
            "\n",
            " Cleaned dataset preview\n"
          ]
        },
        {
          "output_type": "execute_result",
          "data": {
            "text/plain": [
              "                                              review  label  \\\n",
              "0  This was my second experience of the Monkey Is...      1   \n",
              "1  The next-to-last episode aired of the original...      1   \n",
              "2  Brian Yuzna is often frowned upon as a directo...      1   \n",
              "3  During the whole Pirates of The Caribbean Tril...      1   \n",
              "4  Some slack might be cut this movie due to the ...      0   \n",
              "\n",
              "                                      cleaned_review  \n",
              "0  second experi monkey island seri full seven ye...  \n",
              "1  nexttolast episod air origin star trek seri in...  \n",
              "2  brian yuzna often frown upon director trashi g...  \n",
              "3  whole pirat caribbean trilog craze paramount p...  \n",
              "4  slack might cut movi due fact made much said r...  "
            ],
            "text/html": [
              "\n",
              "  <div id=\"df-7bf5803d-49d3-4c3c-8894-60001918d2c1\" class=\"colab-df-container\">\n",
              "    <div>\n",
              "<style scoped>\n",
              "    .dataframe tbody tr th:only-of-type {\n",
              "        vertical-align: middle;\n",
              "    }\n",
              "\n",
              "    .dataframe tbody tr th {\n",
              "        vertical-align: top;\n",
              "    }\n",
              "\n",
              "    .dataframe thead th {\n",
              "        text-align: right;\n",
              "    }\n",
              "</style>\n",
              "<table border=\"1\" class=\"dataframe\">\n",
              "  <thead>\n",
              "    <tr style=\"text-align: right;\">\n",
              "      <th></th>\n",
              "      <th>review</th>\n",
              "      <th>label</th>\n",
              "      <th>cleaned_review</th>\n",
              "    </tr>\n",
              "  </thead>\n",
              "  <tbody>\n",
              "    <tr>\n",
              "      <th>0</th>\n",
              "      <td>This was my second experience of the Monkey Is...</td>\n",
              "      <td>1</td>\n",
              "      <td>second experi monkey island seri full seven ye...</td>\n",
              "    </tr>\n",
              "    <tr>\n",
              "      <th>1</th>\n",
              "      <td>The next-to-last episode aired of the original...</td>\n",
              "      <td>1</td>\n",
              "      <td>nexttolast episod air origin star trek seri in...</td>\n",
              "    </tr>\n",
              "    <tr>\n",
              "      <th>2</th>\n",
              "      <td>Brian Yuzna is often frowned upon as a directo...</td>\n",
              "      <td>1</td>\n",
              "      <td>brian yuzna often frown upon director trashi g...</td>\n",
              "    </tr>\n",
              "    <tr>\n",
              "      <th>3</th>\n",
              "      <td>During the whole Pirates of The Caribbean Tril...</td>\n",
              "      <td>1</td>\n",
              "      <td>whole pirat caribbean trilog craze paramount p...</td>\n",
              "    </tr>\n",
              "    <tr>\n",
              "      <th>4</th>\n",
              "      <td>Some slack might be cut this movie due to the ...</td>\n",
              "      <td>0</td>\n",
              "      <td>slack might cut movi due fact made much said r...</td>\n",
              "    </tr>\n",
              "  </tbody>\n",
              "</table>\n",
              "</div>\n",
              "    <div class=\"colab-df-buttons\">\n",
              "\n",
              "  <div class=\"colab-df-container\">\n",
              "    <button class=\"colab-df-convert\" onclick=\"convertToInteractive('df-7bf5803d-49d3-4c3c-8894-60001918d2c1')\"\n",
              "            title=\"Convert this dataframe to an interactive table.\"\n",
              "            style=\"display:none;\">\n",
              "\n",
              "  <svg xmlns=\"http://www.w3.org/2000/svg\" height=\"24px\" viewBox=\"0 -960 960 960\">\n",
              "    <path d=\"M120-120v-720h720v720H120Zm60-500h600v-160H180v160Zm220 220h160v-160H400v160Zm0 220h160v-160H400v160ZM180-400h160v-160H180v160Zm440 0h160v-160H620v160ZM180-180h160v-160H180v160Zm440 0h160v-160H620v160Z\"/>\n",
              "  </svg>\n",
              "    </button>\n",
              "\n",
              "  <style>\n",
              "    .colab-df-container {\n",
              "      display:flex;\n",
              "      gap: 12px;\n",
              "    }\n",
              "\n",
              "    .colab-df-convert {\n",
              "      background-color: #E8F0FE;\n",
              "      border: none;\n",
              "      border-radius: 50%;\n",
              "      cursor: pointer;\n",
              "      display: none;\n",
              "      fill: #1967D2;\n",
              "      height: 32px;\n",
              "      padding: 0 0 0 0;\n",
              "      width: 32px;\n",
              "    }\n",
              "\n",
              "    .colab-df-convert:hover {\n",
              "      background-color: #E2EBFA;\n",
              "      box-shadow: 0px 1px 2px rgba(60, 64, 67, 0.3), 0px 1px 3px 1px rgba(60, 64, 67, 0.15);\n",
              "      fill: #174EA6;\n",
              "    }\n",
              "\n",
              "    .colab-df-buttons div {\n",
              "      margin-bottom: 4px;\n",
              "    }\n",
              "\n",
              "    [theme=dark] .colab-df-convert {\n",
              "      background-color: #3B4455;\n",
              "      fill: #D2E3FC;\n",
              "    }\n",
              "\n",
              "    [theme=dark] .colab-df-convert:hover {\n",
              "      background-color: #434B5C;\n",
              "      box-shadow: 0px 1px 3px 1px rgba(0, 0, 0, 0.15);\n",
              "      filter: drop-shadow(0px 1px 2px rgba(0, 0, 0, 0.3));\n",
              "      fill: #FFFFFF;\n",
              "    }\n",
              "  </style>\n",
              "\n",
              "    <script>\n",
              "      const buttonEl =\n",
              "        document.querySelector('#df-7bf5803d-49d3-4c3c-8894-60001918d2c1 button.colab-df-convert');\n",
              "      buttonEl.style.display =\n",
              "        google.colab.kernel.accessAllowed ? 'block' : 'none';\n",
              "\n",
              "      async function convertToInteractive(key) {\n",
              "        const element = document.querySelector('#df-7bf5803d-49d3-4c3c-8894-60001918d2c1');\n",
              "        const dataTable =\n",
              "          await google.colab.kernel.invokeFunction('convertToInteractive',\n",
              "                                                    [key], {});\n",
              "        if (!dataTable) return;\n",
              "\n",
              "        const docLinkHtml = 'Like what you see? Visit the ' +\n",
              "          '<a target=\"_blank\" href=https://colab.research.google.com/notebooks/data_table.ipynb>data table notebook</a>'\n",
              "          + ' to learn more about interactive tables.';\n",
              "        element.innerHTML = '';\n",
              "        dataTable['output_type'] = 'display_data';\n",
              "        await google.colab.output.renderOutput(dataTable, element);\n",
              "        const docLink = document.createElement('div');\n",
              "        docLink.innerHTML = docLinkHtml;\n",
              "        element.appendChild(docLink);\n",
              "      }\n",
              "    </script>\n",
              "  </div>\n",
              "\n",
              "\n",
              "    <div id=\"df-fd6ce9a5-8eab-4816-9732-f8006a1fcd97\">\n",
              "      <button class=\"colab-df-quickchart\" onclick=\"quickchart('df-fd6ce9a5-8eab-4816-9732-f8006a1fcd97')\"\n",
              "                title=\"Suggest charts\"\n",
              "                style=\"display:none;\">\n",
              "\n",
              "<svg xmlns=\"http://www.w3.org/2000/svg\" height=\"24px\"viewBox=\"0 0 24 24\"\n",
              "     width=\"24px\">\n",
              "    <g>\n",
              "        <path d=\"M19 3H5c-1.1 0-2 .9-2 2v14c0 1.1.9 2 2 2h14c1.1 0 2-.9 2-2V5c0-1.1-.9-2-2-2zM9 17H7v-7h2v7zm4 0h-2V7h2v10zm4 0h-2v-4h2v4z\"/>\n",
              "    </g>\n",
              "</svg>\n",
              "      </button>\n",
              "\n",
              "<style>\n",
              "  .colab-df-quickchart {\n",
              "      --bg-color: #E8F0FE;\n",
              "      --fill-color: #1967D2;\n",
              "      --hover-bg-color: #E2EBFA;\n",
              "      --hover-fill-color: #174EA6;\n",
              "      --disabled-fill-color: #AAA;\n",
              "      --disabled-bg-color: #DDD;\n",
              "  }\n",
              "\n",
              "  [theme=dark] .colab-df-quickchart {\n",
              "      --bg-color: #3B4455;\n",
              "      --fill-color: #D2E3FC;\n",
              "      --hover-bg-color: #434B5C;\n",
              "      --hover-fill-color: #FFFFFF;\n",
              "      --disabled-bg-color: #3B4455;\n",
              "      --disabled-fill-color: #666;\n",
              "  }\n",
              "\n",
              "  .colab-df-quickchart {\n",
              "    background-color: var(--bg-color);\n",
              "    border: none;\n",
              "    border-radius: 50%;\n",
              "    cursor: pointer;\n",
              "    display: none;\n",
              "    fill: var(--fill-color);\n",
              "    height: 32px;\n",
              "    padding: 0;\n",
              "    width: 32px;\n",
              "  }\n",
              "\n",
              "  .colab-df-quickchart:hover {\n",
              "    background-color: var(--hover-bg-color);\n",
              "    box-shadow: 0 1px 2px rgba(60, 64, 67, 0.3), 0 1px 3px 1px rgba(60, 64, 67, 0.15);\n",
              "    fill: var(--button-hover-fill-color);\n",
              "  }\n",
              "\n",
              "  .colab-df-quickchart-complete:disabled,\n",
              "  .colab-df-quickchart-complete:disabled:hover {\n",
              "    background-color: var(--disabled-bg-color);\n",
              "    fill: var(--disabled-fill-color);\n",
              "    box-shadow: none;\n",
              "  }\n",
              "\n",
              "  .colab-df-spinner {\n",
              "    border: 2px solid var(--fill-color);\n",
              "    border-color: transparent;\n",
              "    border-bottom-color: var(--fill-color);\n",
              "    animation:\n",
              "      spin 1s steps(1) infinite;\n",
              "  }\n",
              "\n",
              "  @keyframes spin {\n",
              "    0% {\n",
              "      border-color: transparent;\n",
              "      border-bottom-color: var(--fill-color);\n",
              "      border-left-color: var(--fill-color);\n",
              "    }\n",
              "    20% {\n",
              "      border-color: transparent;\n",
              "      border-left-color: var(--fill-color);\n",
              "      border-top-color: var(--fill-color);\n",
              "    }\n",
              "    30% {\n",
              "      border-color: transparent;\n",
              "      border-left-color: var(--fill-color);\n",
              "      border-top-color: var(--fill-color);\n",
              "      border-right-color: var(--fill-color);\n",
              "    }\n",
              "    40% {\n",
              "      border-color: transparent;\n",
              "      border-right-color: var(--fill-color);\n",
              "      border-top-color: var(--fill-color);\n",
              "    }\n",
              "    60% {\n",
              "      border-color: transparent;\n",
              "      border-right-color: var(--fill-color);\n",
              "    }\n",
              "    80% {\n",
              "      border-color: transparent;\n",
              "      border-right-color: var(--fill-color);\n",
              "      border-bottom-color: var(--fill-color);\n",
              "    }\n",
              "    90% {\n",
              "      border-color: transparent;\n",
              "      border-bottom-color: var(--fill-color);\n",
              "    }\n",
              "  }\n",
              "</style>\n",
              "\n",
              "      <script>\n",
              "        async function quickchart(key) {\n",
              "          const quickchartButtonEl =\n",
              "            document.querySelector('#' + key + ' button');\n",
              "          quickchartButtonEl.disabled = true;  // To prevent multiple clicks.\n",
              "          quickchartButtonEl.classList.add('colab-df-spinner');\n",
              "          try {\n",
              "            const charts = await google.colab.kernel.invokeFunction(\n",
              "                'suggestCharts', [key], {});\n",
              "          } catch (error) {\n",
              "            console.error('Error during call to suggestCharts:', error);\n",
              "          }\n",
              "          quickchartButtonEl.classList.remove('colab-df-spinner');\n",
              "          quickchartButtonEl.classList.add('colab-df-quickchart-complete');\n",
              "        }\n",
              "        (() => {\n",
              "          let quickchartButtonEl =\n",
              "            document.querySelector('#df-fd6ce9a5-8eab-4816-9732-f8006a1fcd97 button');\n",
              "          quickchartButtonEl.style.display =\n",
              "            google.colab.kernel.accessAllowed ? 'block' : 'none';\n",
              "        })();\n",
              "      </script>\n",
              "    </div>\n",
              "\n",
              "    </div>\n",
              "  </div>\n"
            ],
            "application/vnd.google.colaboratory.intrinsic+json": {
              "type": "dataframe",
              "variable_name": "df",
              "summary": "{\n  \"name\": \"df\",\n  \"rows\": 50000,\n  \"fields\": [\n    {\n      \"column\": \"review\",\n      \"properties\": {\n        \"dtype\": \"string\",\n        \"num_unique_values\": 49582,\n        \"samples\": [\n          \"Dolemite is awesome. Rudy Ray Moore's rhymin kung fu pimp with horrible choreographed action sequences is about as close as you can get to becoming a spoof of a genre without actually being spoof. Citizen Kane this may not be nor Les Infant Au Revoir, but this is undoubtedly genius in it's own right. The production values in this movie are so bad they could qualify as existential special effects. The plot drags a little in the middle but the power of such a cheap premise as kung fu hookers is enough to bring all but the snootiest film lovers through. The infamous ever present boom mike evokes shades of the gloriously incompetent Ed Wood and never grows unfunny. I sometimes wonder if the boom mike was left in on purpose as commentary on the ridiculous aspects of movies in general but i usually get distracted by erotic scenes that lack eroticism to the point of high art mundanacity. Everything is this movie is alive and breathing, dripping with desperate longing to be simultaneously loved and reviled. It works.<br /><br />9 out of 10\",\n          \"Storyline: The film spanning 4-odd hours covers in adequate details the happenings at the Kargil sector near the LOC in 1999 when the Pakistani infiltrators had crossed the LOC and had entered deep into the Indian territory and the Indian Retaliation. To know more about the story, I would suggest readers to read the news-items pertaining to Kargil.<br /><br />Comment: If one is looking for a formula story in this movie, then one can be sure that it is absent. LOC is a story of Pure sacrifice, patriotism, courage and lots and lots of bullets and Blood. The movie hall where I saw this film was full of whistles and cheers when the Film shows Indian Bravery. Movie audience seemed similar to Audiences like in an India vs Pak cricket match.<br /><br />Watch the movie as a tribute to the Army's sacrifice and for the characterization of the real-life war heroes (4 PVC honoured heroes) who have sacrificed their lives so that we could see this day. The movie has made a brilliant portrayal of the Army who have battled all odds in rough weather conditions. The film's negatives are that it is too stretched and the songs are extremely boring.\",\n          \"This movie is exciting,daring and the music is very good.The movie Moonwalker was meant to coincide with the album Bad(1987).I have Bad.It is excellent(*****).The movie begins with Michael Jackson performing\\\"Man In The Mirror\\\"on stage.then,it shows a history of Michael,from his early days in the Jackson 5 right up to the Bad era. Oh,and Badder is good too(Badder is a music video parody of the music video for Bad the single).It then shows the Speed Demon video.The song and the video are very,very good indeed.Same for leave me alone,which appears after.Then it shows the movie Moonwalker.after a few minutes,he plays smooth criminal in a club called club 30s.like it when he does the lean.anyway,nice to see you.bye bye.\"\n        ],\n        \"semantic_type\": \"\",\n        \"description\": \"\"\n      }\n    },\n    {\n      \"column\": \"label\",\n      \"properties\": {\n        \"dtype\": \"number\",\n        \"std\": 0,\n        \"min\": 0,\n        \"max\": 1,\n        \"num_unique_values\": 2,\n        \"samples\": [\n          0,\n          1\n        ],\n        \"semantic_type\": \"\",\n        \"description\": \"\"\n      }\n    },\n    {\n      \"column\": \"cleaned_review\",\n      \"properties\": {\n        \"dtype\": \"string\",\n        \"num_unique_values\": 49576,\n        \"samples\": [\n          \"saw today littl background expect storylin go movi escap leav everyth behind enjoy stori found good movi great good worth money tear dian lane wonder alway richard gere isnt overactor held certain presenc alway come expect bring style moviei think kind love stori doesnt alway get told messi prioriti want togeth want wait otherid definit recommend\",\n          \"great film classic well produc dramat scene film john garfield schmidforc evil dane clarkle diamondlast rite fight jap wwii complet surround one machinegun al schmid abl go home wound horribl injuri problem start begin famili engag girl friend dane clark gave outstand support role lee diamond everyth help buddi al get life togeth never complet victori war let forget brave wound militari personnel veteran hospit war present iraq vet\"\n        ],\n        \"semantic_type\": \"\",\n        \"description\": \"\"\n      }\n    }\n  ]\n}"
            }
          },
          "metadata": {},
          "execution_count": 17
        }
      ]
    },
    {
      "cell_type": "code",
      "source": [
        "# Saving the proceeded file for later usage\n",
        "df.to_csv(\"/content/drive/MyDrive/Atomcamp DS&AI Bootcamp 2025/NLP/aclImdb/preprocessed_reviews.csv\", index=False)"
      ],
      "metadata": {
        "id": "dqA1PPpnFdic"
      },
      "execution_count": 18,
      "outputs": []
    },
    {
      "cell_type": "code",
      "source": [
        "df = pd.read_csv(\"/content/drive/MyDrive/Atomcamp DS&AI Bootcamp 2025/NLP/aclImdb/preprocessed_reviews.csv\")\n",
        "df.head()"
      ],
      "metadata": {
        "colab": {
          "base_uri": "https://localhost:8080/",
          "height": 206
        },
        "id": "w45tunuom3cK",
        "outputId": "e4f8c566-23f8-4021-bd5f-99b86dde20cb"
      },
      "execution_count": 4,
      "outputs": [
        {
          "output_type": "execute_result",
          "data": {
            "text/plain": [
              "                                              review  label  \\\n",
              "0  This was my second experience of the Monkey Is...      1   \n",
              "1  The next-to-last episode aired of the original...      1   \n",
              "2  Brian Yuzna is often frowned upon as a directo...      1   \n",
              "3  During the whole Pirates of The Caribbean Tril...      1   \n",
              "4  Some slack might be cut this movie due to the ...      0   \n",
              "\n",
              "                                      cleaned_review  \n",
              "0  second experi monkey island seri full seven ye...  \n",
              "1  nexttolast episod air origin star trek seri in...  \n",
              "2  brian yuzna often frown upon director trashi g...  \n",
              "3  whole pirat caribbean trilog craze paramount p...  \n",
              "4  slack might cut movi due fact made much said r...  "
            ],
            "text/html": [
              "\n",
              "  <div id=\"df-87d55344-0c7c-4493-9c73-2cde7683df4a\" class=\"colab-df-container\">\n",
              "    <div>\n",
              "<style scoped>\n",
              "    .dataframe tbody tr th:only-of-type {\n",
              "        vertical-align: middle;\n",
              "    }\n",
              "\n",
              "    .dataframe tbody tr th {\n",
              "        vertical-align: top;\n",
              "    }\n",
              "\n",
              "    .dataframe thead th {\n",
              "        text-align: right;\n",
              "    }\n",
              "</style>\n",
              "<table border=\"1\" class=\"dataframe\">\n",
              "  <thead>\n",
              "    <tr style=\"text-align: right;\">\n",
              "      <th></th>\n",
              "      <th>review</th>\n",
              "      <th>label</th>\n",
              "      <th>cleaned_review</th>\n",
              "    </tr>\n",
              "  </thead>\n",
              "  <tbody>\n",
              "    <tr>\n",
              "      <th>0</th>\n",
              "      <td>This was my second experience of the Monkey Is...</td>\n",
              "      <td>1</td>\n",
              "      <td>second experi monkey island seri full seven ye...</td>\n",
              "    </tr>\n",
              "    <tr>\n",
              "      <th>1</th>\n",
              "      <td>The next-to-last episode aired of the original...</td>\n",
              "      <td>1</td>\n",
              "      <td>nexttolast episod air origin star trek seri in...</td>\n",
              "    </tr>\n",
              "    <tr>\n",
              "      <th>2</th>\n",
              "      <td>Brian Yuzna is often frowned upon as a directo...</td>\n",
              "      <td>1</td>\n",
              "      <td>brian yuzna often frown upon director trashi g...</td>\n",
              "    </tr>\n",
              "    <tr>\n",
              "      <th>3</th>\n",
              "      <td>During the whole Pirates of The Caribbean Tril...</td>\n",
              "      <td>1</td>\n",
              "      <td>whole pirat caribbean trilog craze paramount p...</td>\n",
              "    </tr>\n",
              "    <tr>\n",
              "      <th>4</th>\n",
              "      <td>Some slack might be cut this movie due to the ...</td>\n",
              "      <td>0</td>\n",
              "      <td>slack might cut movi due fact made much said r...</td>\n",
              "    </tr>\n",
              "  </tbody>\n",
              "</table>\n",
              "</div>\n",
              "    <div class=\"colab-df-buttons\">\n",
              "\n",
              "  <div class=\"colab-df-container\">\n",
              "    <button class=\"colab-df-convert\" onclick=\"convertToInteractive('df-87d55344-0c7c-4493-9c73-2cde7683df4a')\"\n",
              "            title=\"Convert this dataframe to an interactive table.\"\n",
              "            style=\"display:none;\">\n",
              "\n",
              "  <svg xmlns=\"http://www.w3.org/2000/svg\" height=\"24px\" viewBox=\"0 -960 960 960\">\n",
              "    <path d=\"M120-120v-720h720v720H120Zm60-500h600v-160H180v160Zm220 220h160v-160H400v160Zm0 220h160v-160H400v160ZM180-400h160v-160H180v160Zm440 0h160v-160H620v160ZM180-180h160v-160H180v160Zm440 0h160v-160H620v160Z\"/>\n",
              "  </svg>\n",
              "    </button>\n",
              "\n",
              "  <style>\n",
              "    .colab-df-container {\n",
              "      display:flex;\n",
              "      gap: 12px;\n",
              "    }\n",
              "\n",
              "    .colab-df-convert {\n",
              "      background-color: #E8F0FE;\n",
              "      border: none;\n",
              "      border-radius: 50%;\n",
              "      cursor: pointer;\n",
              "      display: none;\n",
              "      fill: #1967D2;\n",
              "      height: 32px;\n",
              "      padding: 0 0 0 0;\n",
              "      width: 32px;\n",
              "    }\n",
              "\n",
              "    .colab-df-convert:hover {\n",
              "      background-color: #E2EBFA;\n",
              "      box-shadow: 0px 1px 2px rgba(60, 64, 67, 0.3), 0px 1px 3px 1px rgba(60, 64, 67, 0.15);\n",
              "      fill: #174EA6;\n",
              "    }\n",
              "\n",
              "    .colab-df-buttons div {\n",
              "      margin-bottom: 4px;\n",
              "    }\n",
              "\n",
              "    [theme=dark] .colab-df-convert {\n",
              "      background-color: #3B4455;\n",
              "      fill: #D2E3FC;\n",
              "    }\n",
              "\n",
              "    [theme=dark] .colab-df-convert:hover {\n",
              "      background-color: #434B5C;\n",
              "      box-shadow: 0px 1px 3px 1px rgba(0, 0, 0, 0.15);\n",
              "      filter: drop-shadow(0px 1px 2px rgba(0, 0, 0, 0.3));\n",
              "      fill: #FFFFFF;\n",
              "    }\n",
              "  </style>\n",
              "\n",
              "    <script>\n",
              "      const buttonEl =\n",
              "        document.querySelector('#df-87d55344-0c7c-4493-9c73-2cde7683df4a button.colab-df-convert');\n",
              "      buttonEl.style.display =\n",
              "        google.colab.kernel.accessAllowed ? 'block' : 'none';\n",
              "\n",
              "      async function convertToInteractive(key) {\n",
              "        const element = document.querySelector('#df-87d55344-0c7c-4493-9c73-2cde7683df4a');\n",
              "        const dataTable =\n",
              "          await google.colab.kernel.invokeFunction('convertToInteractive',\n",
              "                                                    [key], {});\n",
              "        if (!dataTable) return;\n",
              "\n",
              "        const docLinkHtml = 'Like what you see? Visit the ' +\n",
              "          '<a target=\"_blank\" href=https://colab.research.google.com/notebooks/data_table.ipynb>data table notebook</a>'\n",
              "          + ' to learn more about interactive tables.';\n",
              "        element.innerHTML = '';\n",
              "        dataTable['output_type'] = 'display_data';\n",
              "        await google.colab.output.renderOutput(dataTable, element);\n",
              "        const docLink = document.createElement('div');\n",
              "        docLink.innerHTML = docLinkHtml;\n",
              "        element.appendChild(docLink);\n",
              "      }\n",
              "    </script>\n",
              "  </div>\n",
              "\n",
              "\n",
              "    <div id=\"df-1d5596f7-dabf-4ac2-9eed-6ea8ec2dccfe\">\n",
              "      <button class=\"colab-df-quickchart\" onclick=\"quickchart('df-1d5596f7-dabf-4ac2-9eed-6ea8ec2dccfe')\"\n",
              "                title=\"Suggest charts\"\n",
              "                style=\"display:none;\">\n",
              "\n",
              "<svg xmlns=\"http://www.w3.org/2000/svg\" height=\"24px\"viewBox=\"0 0 24 24\"\n",
              "     width=\"24px\">\n",
              "    <g>\n",
              "        <path d=\"M19 3H5c-1.1 0-2 .9-2 2v14c0 1.1.9 2 2 2h14c1.1 0 2-.9 2-2V5c0-1.1-.9-2-2-2zM9 17H7v-7h2v7zm4 0h-2V7h2v10zm4 0h-2v-4h2v4z\"/>\n",
              "    </g>\n",
              "</svg>\n",
              "      </button>\n",
              "\n",
              "<style>\n",
              "  .colab-df-quickchart {\n",
              "      --bg-color: #E8F0FE;\n",
              "      --fill-color: #1967D2;\n",
              "      --hover-bg-color: #E2EBFA;\n",
              "      --hover-fill-color: #174EA6;\n",
              "      --disabled-fill-color: #AAA;\n",
              "      --disabled-bg-color: #DDD;\n",
              "  }\n",
              "\n",
              "  [theme=dark] .colab-df-quickchart {\n",
              "      --bg-color: #3B4455;\n",
              "      --fill-color: #D2E3FC;\n",
              "      --hover-bg-color: #434B5C;\n",
              "      --hover-fill-color: #FFFFFF;\n",
              "      --disabled-bg-color: #3B4455;\n",
              "      --disabled-fill-color: #666;\n",
              "  }\n",
              "\n",
              "  .colab-df-quickchart {\n",
              "    background-color: var(--bg-color);\n",
              "    border: none;\n",
              "    border-radius: 50%;\n",
              "    cursor: pointer;\n",
              "    display: none;\n",
              "    fill: var(--fill-color);\n",
              "    height: 32px;\n",
              "    padding: 0;\n",
              "    width: 32px;\n",
              "  }\n",
              "\n",
              "  .colab-df-quickchart:hover {\n",
              "    background-color: var(--hover-bg-color);\n",
              "    box-shadow: 0 1px 2px rgba(60, 64, 67, 0.3), 0 1px 3px 1px rgba(60, 64, 67, 0.15);\n",
              "    fill: var(--button-hover-fill-color);\n",
              "  }\n",
              "\n",
              "  .colab-df-quickchart-complete:disabled,\n",
              "  .colab-df-quickchart-complete:disabled:hover {\n",
              "    background-color: var(--disabled-bg-color);\n",
              "    fill: var(--disabled-fill-color);\n",
              "    box-shadow: none;\n",
              "  }\n",
              "\n",
              "  .colab-df-spinner {\n",
              "    border: 2px solid var(--fill-color);\n",
              "    border-color: transparent;\n",
              "    border-bottom-color: var(--fill-color);\n",
              "    animation:\n",
              "      spin 1s steps(1) infinite;\n",
              "  }\n",
              "\n",
              "  @keyframes spin {\n",
              "    0% {\n",
              "      border-color: transparent;\n",
              "      border-bottom-color: var(--fill-color);\n",
              "      border-left-color: var(--fill-color);\n",
              "    }\n",
              "    20% {\n",
              "      border-color: transparent;\n",
              "      border-left-color: var(--fill-color);\n",
              "      border-top-color: var(--fill-color);\n",
              "    }\n",
              "    30% {\n",
              "      border-color: transparent;\n",
              "      border-left-color: var(--fill-color);\n",
              "      border-top-color: var(--fill-color);\n",
              "      border-right-color: var(--fill-color);\n",
              "    }\n",
              "    40% {\n",
              "      border-color: transparent;\n",
              "      border-right-color: var(--fill-color);\n",
              "      border-top-color: var(--fill-color);\n",
              "    }\n",
              "    60% {\n",
              "      border-color: transparent;\n",
              "      border-right-color: var(--fill-color);\n",
              "    }\n",
              "    80% {\n",
              "      border-color: transparent;\n",
              "      border-right-color: var(--fill-color);\n",
              "      border-bottom-color: var(--fill-color);\n",
              "    }\n",
              "    90% {\n",
              "      border-color: transparent;\n",
              "      border-bottom-color: var(--fill-color);\n",
              "    }\n",
              "  }\n",
              "</style>\n",
              "\n",
              "      <script>\n",
              "        async function quickchart(key) {\n",
              "          const quickchartButtonEl =\n",
              "            document.querySelector('#' + key + ' button');\n",
              "          quickchartButtonEl.disabled = true;  // To prevent multiple clicks.\n",
              "          quickchartButtonEl.classList.add('colab-df-spinner');\n",
              "          try {\n",
              "            const charts = await google.colab.kernel.invokeFunction(\n",
              "                'suggestCharts', [key], {});\n",
              "          } catch (error) {\n",
              "            console.error('Error during call to suggestCharts:', error);\n",
              "          }\n",
              "          quickchartButtonEl.classList.remove('colab-df-spinner');\n",
              "          quickchartButtonEl.classList.add('colab-df-quickchart-complete');\n",
              "        }\n",
              "        (() => {\n",
              "          let quickchartButtonEl =\n",
              "            document.querySelector('#df-1d5596f7-dabf-4ac2-9eed-6ea8ec2dccfe button');\n",
              "          quickchartButtonEl.style.display =\n",
              "            google.colab.kernel.accessAllowed ? 'block' : 'none';\n",
              "        })();\n",
              "      </script>\n",
              "    </div>\n",
              "\n",
              "    </div>\n",
              "  </div>\n"
            ],
            "application/vnd.google.colaboratory.intrinsic+json": {
              "type": "dataframe",
              "variable_name": "df",
              "summary": "{\n  \"name\": \"df\",\n  \"rows\": 50000,\n  \"fields\": [\n    {\n      \"column\": \"review\",\n      \"properties\": {\n        \"dtype\": \"string\",\n        \"num_unique_values\": 49582,\n        \"samples\": [\n          \"Dolemite is awesome. Rudy Ray Moore's rhymin kung fu pimp with horrible choreographed action sequences is about as close as you can get to becoming a spoof of a genre without actually being spoof. Citizen Kane this may not be nor Les Infant Au Revoir, but this is undoubtedly genius in it's own right. The production values in this movie are so bad they could qualify as existential special effects. The plot drags a little in the middle but the power of such a cheap premise as kung fu hookers is enough to bring all but the snootiest film lovers through. The infamous ever present boom mike evokes shades of the gloriously incompetent Ed Wood and never grows unfunny. I sometimes wonder if the boom mike was left in on purpose as commentary on the ridiculous aspects of movies in general but i usually get distracted by erotic scenes that lack eroticism to the point of high art mundanacity. Everything is this movie is alive and breathing, dripping with desperate longing to be simultaneously loved and reviled. It works.<br /><br />9 out of 10\",\n          \"Storyline: The film spanning 4-odd hours covers in adequate details the happenings at the Kargil sector near the LOC in 1999 when the Pakistani infiltrators had crossed the LOC and had entered deep into the Indian territory and the Indian Retaliation. To know more about the story, I would suggest readers to read the news-items pertaining to Kargil.<br /><br />Comment: If one is looking for a formula story in this movie, then one can be sure that it is absent. LOC is a story of Pure sacrifice, patriotism, courage and lots and lots of bullets and Blood. The movie hall where I saw this film was full of whistles and cheers when the Film shows Indian Bravery. Movie audience seemed similar to Audiences like in an India vs Pak cricket match.<br /><br />Watch the movie as a tribute to the Army's sacrifice and for the characterization of the real-life war heroes (4 PVC honoured heroes) who have sacrificed their lives so that we could see this day. The movie has made a brilliant portrayal of the Army who have battled all odds in rough weather conditions. The film's negatives are that it is too stretched and the songs are extremely boring.\",\n          \"This movie is exciting,daring and the music is very good.The movie Moonwalker was meant to coincide with the album Bad(1987).I have Bad.It is excellent(*****).The movie begins with Michael Jackson performing\\\"Man In The Mirror\\\"on stage.then,it shows a history of Michael,from his early days in the Jackson 5 right up to the Bad era. Oh,and Badder is good too(Badder is a music video parody of the music video for Bad the single).It then shows the Speed Demon video.The song and the video are very,very good indeed.Same for leave me alone,which appears after.Then it shows the movie Moonwalker.after a few minutes,he plays smooth criminal in a club called club 30s.like it when he does the lean.anyway,nice to see you.bye bye.\"\n        ],\n        \"semantic_type\": \"\",\n        \"description\": \"\"\n      }\n    },\n    {\n      \"column\": \"label\",\n      \"properties\": {\n        \"dtype\": \"number\",\n        \"std\": 0,\n        \"min\": 0,\n        \"max\": 1,\n        \"num_unique_values\": 2,\n        \"samples\": [\n          0,\n          1\n        ],\n        \"semantic_type\": \"\",\n        \"description\": \"\"\n      }\n    },\n    {\n      \"column\": \"cleaned_review\",\n      \"properties\": {\n        \"dtype\": \"string\",\n        \"num_unique_values\": 49576,\n        \"samples\": [\n          \"saw today littl background expect storylin go movi escap leav everyth behind enjoy stori found good movi great good worth money tear dian lane wonder alway richard gere isnt overactor held certain presenc alway come expect bring style moviei think kind love stori doesnt alway get told messi prioriti want togeth want wait otherid definit recommend\",\n          \"great film classic well produc dramat scene film john garfield schmidforc evil dane clarkle diamondlast rite fight jap wwii complet surround one machinegun al schmid abl go home wound horribl injuri problem start begin famili engag girl friend dane clark gave outstand support role lee diamond everyth help buddi al get life togeth never complet victori war let forget brave wound militari personnel veteran hospit war present iraq vet\"\n        ],\n        \"semantic_type\": \"\",\n        \"description\": \"\"\n      }\n    }\n  ]\n}"
            }
          },
          "metadata": {},
          "execution_count": 4
        }
      ]
    },
    {
      "cell_type": "code",
      "source": [
        "# Spliting the dataset in 80% train+val and 20% test\n",
        "df_trainval, df_test = train_test_split(df, test_size=0.2, random_state=SEED, stratify=df['label'])"
      ],
      "metadata": {
        "id": "6UstI971nSIG"
      },
      "execution_count": 5,
      "outputs": []
    },
    {
      "cell_type": "code",
      "source": [
        "# Further spliting the trainval to get 70/10/20 split\n",
        "df_train, df_val = train_test_split(df_trainval, test_size=0.125, random_state=SEED, stratify=df_trainval['label'])\n",
        "\n",
        "# Confirm shapes\n",
        "print(f\"Train: {df_train.shape}, Validation: {df_val.shape}, Test: {df_test.shape}\")"
      ],
      "metadata": {
        "colab": {
          "base_uri": "https://localhost:8080/"
        },
        "id": "HtR_qrjtt8We",
        "outputId": "2f73e7a0-5b10-4267-8a3c-08c67cbd227d"
      },
      "execution_count": 6,
      "outputs": [
        {
          "output_type": "stream",
          "name": "stdout",
          "text": [
            "Train: (35000, 3), Validation: (5000, 3), Test: (10000, 3)\n"
          ]
        }
      ]
    },
    {
      "cell_type": "markdown",
      "source": [
        "# Feature Engineering"
      ],
      "metadata": {
        "id": "U1lUgr8GoMWX"
      }
    },
    {
      "cell_type": "code",
      "source": [
        "# Bag-of-Words\n",
        "vectorizer = CountVectorizer()\n",
        "X_train_bow = vectorizer.fit_transform(df_train['cleaned_review'])\n",
        "X_val_bow = vectorizer.fit_transform(df_val['cleaned_review'])\n",
        "X_test_bow = vectorizer.fit_transform(df_test['cleaned_review'])"
      ],
      "metadata": {
        "id": "zrCXfW6YoC7X"
      },
      "execution_count": 7,
      "outputs": []
    },
    {
      "cell_type": "code",
      "source": [
        "# TF-IDF\n",
        "tfidf_vectorizer = TfidfVectorizer(max_features=5000)\n",
        "X_train_tfidf = tfidf_vectorizer.fit_transform(df_train['cleaned_review'])\n",
        "X_val_tfidf = tfidf_vectorizer.fit_transform(df_val['cleaned_review'])\n",
        "X_test_tfidf = tfidf_vectorizer.fit_transform(df_test['cleaned_review'])"
      ],
      "metadata": {
        "id": "fH6nnHsTobcQ"
      },
      "execution_count": 8,
      "outputs": []
    },
    {
      "cell_type": "code",
      "source": [
        "df['tokens'] = df['review'].apply(lambda x: word_tokenize(x.lower()))\n",
        "tokenized_reviews = df['tokens'].tolist()"
      ],
      "metadata": {
        "id": "SXk2M5XEDIel"
      },
      "execution_count": 9,
      "outputs": []
    },
    {
      "cell_type": "code",
      "source": [
        "# Initializing Word2Vec model\n",
        "w2v_model = Word2Vec(\n",
        "    # sentences=tokenized_reviews,\n",
        "    vector_size=100,\n",
        "    window=5,\n",
        "    min_count=2,\n",
        "    workers=4,\n",
        "    sg=1,\n",
        "    # epochs=10\n",
        ")"
      ],
      "metadata": {
        "id": "td2K7IN-EmVH"
      },
      "execution_count": 10,
      "outputs": []
    },
    {
      "cell_type": "code",
      "source": [
        "# Building vocabulary with a progress bar\n",
        "w2v_model.build_vocab(tqdm(tokenized_reviews, desc=\"Building Vocabulary\"))"
      ],
      "metadata": {
        "colab": {
          "base_uri": "https://localhost:8080/"
        },
        "id": "-fCPQfSZH1_E",
        "outputId": "3d930f13-9896-4fcf-fe01-3f5daeee77b6"
      },
      "execution_count": 12,
      "outputs": [
        {
          "output_type": "stream",
          "name": "stderr",
          "text": [
            "Building Vocabulary: 100%|██████████| 50000/50000 [00:03<00:00, 16621.54it/s]\n"
          ]
        }
      ]
    },
    {
      "cell_type": "code",
      "source": [
        "# Training the model\n",
        "w2v_model.train(tqdm(tokenized_reviews, desc=\"Training Word2Vec\"), total_examples=len(tokenized_reviews), epochs=10)"
      ],
      "metadata": {
        "colab": {
          "base_uri": "https://localhost:8080/"
        },
        "id": "6bwqY1FjIGwb",
        "outputId": "6803d351-0067-4112-a8a6-a70ab07ba96d"
      },
      "execution_count": 14,
      "outputs": [
        {
          "output_type": "stream",
          "name": "stderr",
          "text": [
            "Training Word2Vec: 100%|██████████| 50000/50000 [00:55<00:00, 902.40it/s]\n"
          ]
        },
        {
          "output_type": "execute_result",
          "data": {
            "text/plain": [
              "(97563200, 139705960)"
            ]
          },
          "metadata": {},
          "execution_count": 14
        }
      ]
    },
    {
      "cell_type": "code",
      "source": [
        "# Save the model for later use\n",
        "model_path = \"/content/drive/MyDrive/Atomcamp DS&AI Bootcamp 2025/NLP/custom_word2vec.model\"\n",
        "w2v_model.save(model_path)  # Save the trained Word2Vec model\n",
        "print(f\"Model saved to {model_path}\")"
      ],
      "metadata": {
        "colab": {
          "base_uri": "https://localhost:8080/"
        },
        "id": "tsND5F6IRvZy",
        "outputId": "61fb8a1c-bfac-435e-e9c2-e603c654dd64"
      },
      "execution_count": 23,
      "outputs": [
        {
          "output_type": "stream",
          "name": "stdout",
          "text": [
            "Model saved to /content/drive/MyDrive/Atomcamp DS&AI Bootcamp 2025/NLP/custom_word2vec.model\n"
          ]
        }
      ]
    },
    {
      "cell_type": "code",
      "source": [
        "# Displaying vector for a word\n",
        "word = \"natural\"\n",
        "print(f\"Vector for '{word}':\\n\", w2v_model.wv[word])"
      ],
      "metadata": {
        "colab": {
          "base_uri": "https://localhost:8080/"
        },
        "id": "ZFmIaZbWLdZp",
        "outputId": "37ba375d-1455-4da4-9837-728b3613225b"
      },
      "execution_count": 15,
      "outputs": [
        {
          "output_type": "stream",
          "name": "stdout",
          "text": [
            "Vector for 'natural':\n",
            " [ 0.41939202 -0.03775436 -0.07237764  0.39716125  0.32995787 -0.39727923\n",
            "  0.0262161   0.22853571  0.02924133 -0.40616792 -0.29761827 -0.18720469\n",
            " -0.5900885   0.12259605 -0.07867267 -0.15976825  0.14742991 -0.47024235\n",
            " -0.2855642  -0.510051    0.10883023  0.00593585  0.18153867 -0.43050477\n",
            " -0.0921969   0.13420376 -0.0042001  -0.18318781 -0.6128986   0.17625563\n",
            "  0.3474586  -0.06200889  0.15610008 -0.27062875 -0.48864487  0.43165898\n",
            "  0.04341777 -0.33413306  0.14451253 -0.53109336  0.3007994   0.21719754\n",
            "  0.19229305 -0.34240437  0.08546032  0.0233843  -0.39585313 -0.07644603\n",
            " -0.03786366  0.5546261  -0.19771934  0.06932575 -0.16348456  0.06635717\n",
            " -0.41106415  0.5486402   0.36348906 -0.20568538  0.19444412 -0.25329152\n",
            "  0.03146093 -0.22816353  0.44391385  0.12089258  0.6992089   0.25575548\n",
            "  0.07308207  0.6929536  -0.47022566  0.49638003 -0.03022121  0.41116378\n",
            "  0.25426337  0.47701582 -0.07687507  0.08945435  0.16235305  0.08027503\n",
            "  0.06232309 -0.18994144 -0.06145677 -0.10694678 -0.00475409  0.37599066\n",
            "  0.12208524 -0.20364875 -0.14014442 -0.08277102 -0.00685089  0.41103572\n",
            "  0.30284163 -0.01408572 -0.05804263  0.115419   -0.17878602  0.31520954\n",
            "  0.19534144 -0.4419928  -0.14745188 -0.13127126]\n"
          ]
        }
      ]
    },
    {
      "cell_type": "code",
      "source": [
        "# Word Embeddings\n",
        "words = list(w2v_model.wv.index_to_key)\n",
        "word_vectors = np.array([w2v_model.wv[w] for w in words])"
      ],
      "metadata": {
        "id": "GBuGH0wFLjA0"
      },
      "execution_count": 20,
      "outputs": []
    },
    {
      "cell_type": "code",
      "source": [
        "# Save the vectors as a dictionary\n",
        "vectors_path = \"/content/drive/MyDrive/Atomcamp DS&AI Bootcamp 2025/NLP/custom_word_vectors.pkl\"\n",
        "with open(vectors_path, \"wb\") as f:\n",
        "    pickle.dump(word_vectors, f)  # Save the word vectors to a file\n",
        "print(f\"Word vectors saved to {vectors_path}\")"
      ],
      "metadata": {
        "colab": {
          "base_uri": "https://localhost:8080/"
        },
        "id": "2yMBQYE3SlwO",
        "outputId": "7cb65a0a-6077-44ec-8f63-b68f44d4d8ae"
      },
      "execution_count": 26,
      "outputs": [
        {
          "output_type": "stream",
          "name": "stdout",
          "text": [
            "Word vectors saved to /content/drive/MyDrive/Atomcamp DS&AI Bootcamp 2025/NLP/custom_word_vectors.pkl\n"
          ]
        }
      ]
    },
    {
      "cell_type": "code",
      "source": [
        "# Load the saved Word2Vec model\n",
        "loaded_model = Word2Vec.load(model_path)\n",
        "print(\"Model loaded successfully.\")"
      ],
      "metadata": {
        "colab": {
          "base_uri": "https://localhost:8080/"
        },
        "id": "bDqE44J9URgu",
        "outputId": "b7d3a518-055f-4a32-b5f0-99ea1f78f5de"
      },
      "execution_count": 27,
      "outputs": [
        {
          "output_type": "stream",
          "name": "stdout",
          "text": [
            "Model loaded successfully.\n"
          ]
        }
      ]
    },
    {
      "cell_type": "code",
      "source": [
        "# Load saved vectors from the file\n",
        "with open(vectors_path, \"rb\") as f:\n",
        "    loaded_vectors = pickle.load(f)\n",
        "print(\"Word vectors loaded successfully.\")"
      ],
      "metadata": {
        "colab": {
          "base_uri": "https://localhost:8080/"
        },
        "id": "NcaRLgwwUTYv",
        "outputId": "dd041a57-9975-44da-de06-d9b965673e71"
      },
      "execution_count": 28,
      "outputs": [
        {
          "output_type": "stream",
          "name": "stdout",
          "text": [
            "Word vectors loaded successfully.\n"
          ]
        }
      ]
    },
    {
      "cell_type": "code",
      "source": [
        "# Section 4: Explore the Embeddings\n",
        "print(\"\\n### Exploring Word Embeddings\")\n",
        "word = \"natural\"  # Specify a word to explore\n",
        "if word in loaded_model.wv:\n",
        "    # Display the vector representation of the word\n",
        "    print(f\"Vector for '{word}':\\n\", loaded_model.wv[word])"
      ],
      "metadata": {
        "colab": {
          "base_uri": "https://localhost:8080/"
        },
        "id": "H0SeGfqPUXbm",
        "outputId": "5edf5ca6-ee36-4e69-9030-fde8f054e53a"
      },
      "execution_count": 29,
      "outputs": [
        {
          "output_type": "stream",
          "name": "stdout",
          "text": [
            "\n",
            "### Exploring Word Embeddings\n",
            "Vector for 'natural':\n",
            " [ 0.41939202 -0.03775436 -0.07237764  0.39716125  0.32995787 -0.39727923\n",
            "  0.0262161   0.22853571  0.02924133 -0.40616792 -0.29761827 -0.18720469\n",
            " -0.5900885   0.12259605 -0.07867267 -0.15976825  0.14742991 -0.47024235\n",
            " -0.2855642  -0.510051    0.10883023  0.00593585  0.18153867 -0.43050477\n",
            " -0.0921969   0.13420376 -0.0042001  -0.18318781 -0.6128986   0.17625563\n",
            "  0.3474586  -0.06200889  0.15610008 -0.27062875 -0.48864487  0.43165898\n",
            "  0.04341777 -0.33413306  0.14451253 -0.53109336  0.3007994   0.21719754\n",
            "  0.19229305 -0.34240437  0.08546032  0.0233843  -0.39585313 -0.07644603\n",
            " -0.03786366  0.5546261  -0.19771934  0.06932575 -0.16348456  0.06635717\n",
            " -0.41106415  0.5486402   0.36348906 -0.20568538  0.19444412 -0.25329152\n",
            "  0.03146093 -0.22816353  0.44391385  0.12089258  0.6992089   0.25575548\n",
            "  0.07308207  0.6929536  -0.47022566  0.49638003 -0.03022121  0.41116378\n",
            "  0.25426337  0.47701582 -0.07687507  0.08945435  0.16235305  0.08027503\n",
            "  0.06232309 -0.18994144 -0.06145677 -0.10694678 -0.00475409  0.37599066\n",
            "  0.12208524 -0.20364875 -0.14014442 -0.08277102 -0.00685089  0.41103572\n",
            "  0.30284163 -0.01408572 -0.05804263  0.115419   -0.17878602  0.31520954\n",
            "  0.19534144 -0.4419928  -0.14745188 -0.13127126]\n"
          ]
        }
      ]
    },
    {
      "cell_type": "code",
      "source": [
        "# Section 1: Semantic Similarity\n",
        "print(\"\\n### Semantic Similarity\")\n",
        "def semantic_similarity(word1, word2):\n",
        "    # Check if both words are in the vocabulary\n",
        "    if word1 in w2v_model.wv and word2 in w2v_model.wv:\n",
        "        # Compute cosine similarity between word vectors\n",
        "        similarity = cosine_similarity(w2v_model.wv[word1], w2v_model.wv[word2])\n",
        "        return similarity\n",
        "    else:\n",
        "        return None\n",
        "\n",
        "word1, word2 = \"natural\", \"language\"\n",
        "similarity = semantic_similarity(word1, word2)\n",
        "if similarity is not None:\n",
        "    print(f\"Semantic similarity between '{word1}' and '{word2}': {similarity:.2f}\")\n",
        "else:\n",
        "    print(f\"One or both words ('{word1}', '{word2}') are not in the vocabulary.\")"
      ],
      "metadata": {
        "colab": {
          "base_uri": "https://localhost:8080/"
        },
        "id": "qreIPxLzUj7k",
        "outputId": "c275f86a-5b98-4886-e215-6de709416988"
      },
      "execution_count": 31,
      "outputs": [
        {
          "output_type": "stream",
          "name": "stdout",
          "text": [
            "\n",
            "### Semantic Similarity\n",
            "Semantic similarity between 'natural' and 'language': 0.29\n"
          ]
        }
      ]
    },
    {
      "cell_type": "code",
      "source": [
        "# Section 2: Word Analogies\n",
        "print(\"\\n### Word Analogies\")\n",
        "def word_analogy(word_a, word_b, word_c):\n",
        "    # Check if all three words are in the vocabulary\n",
        "    if word_a in w2v_model.wv and word_b in w2v_model.wv and word_c in w2v_model.wv:\n",
        "        # Perform the analogy calculation: word_b - word_a + word_c\n",
        "        result = w2v_model.wv.most_similar(positive=[word_b, word_c], negative=[word_a], topn=1)\n",
        "        return result[0]\n",
        "    else:\n",
        "        return None\n",
        "\n",
        "analogy_result = word_analogy(\"man\", \"king\", \"woman\")\n",
        "if analogy_result:\n",
        "    print(f\"'man' is to 'king' as 'woman' is to '{analogy_result[0]}' (similarity: {analogy_result[1]:.2f})\")\n",
        "else:\n",
        "    print(\"One or more words are not in the vocabulary.\")"
      ],
      "metadata": {
        "colab": {
          "base_uri": "https://localhost:8080/"
        },
        "id": "fnvvu9gCU4Zd",
        "outputId": "4aa6ffcb-a72b-4df3-8555-ec1c518764fe"
      },
      "execution_count": 32,
      "outputs": [
        {
          "output_type": "stream",
          "name": "stdout",
          "text": [
            "\n",
            "### Word Analogies\n",
            "'man' is to 'king' as 'woman' is to 'queen' (similarity: 0.72)\n"
          ]
        }
      ]
    },
    {
      "cell_type": "code",
      "source": [
        "# Section 4: Document Similarity\n",
        "print(\"\\n### Document Similarity\")\n",
        "def document_vector(document):\n",
        "    # Tokenize the document into words and filter valid words in the vocabulary\n",
        "    words = document.lower().split()\n",
        "    valid_words = [w2v_model.wv[word] for word in words if word in w2v_model.wv]\n",
        "    # Compute the mean vector of all valid word vectors\n",
        "    return np.mean(valid_words, axis=0) if valid_words else None\n",
        "\n",
        "doc1 = \"I love natural language processing\"\n",
        "doc2 = \"Natural language understanding is important\"\n",
        "vec1, vec2 = document_vector(doc1), document_vector(doc2)\n",
        "if vec1 is not None and vec2 is not None:\n",
        "    # Compute cosine similarity between document vectors\n",
        "    similarity = cosine_similarity(vec1, vec2)\n",
        "    print(f\"Similarity between documents: {similarity:.2f}\")\n",
        "else:\n",
        "    print(\"One or both documents have no valid words in the vocabulary.\")"
      ],
      "metadata": {
        "colab": {
          "base_uri": "https://localhost:8080/"
        },
        "id": "iImplUqoVAyM",
        "outputId": "1738c9bb-7690-4a95-9252-66ae5678899b"
      },
      "execution_count": 37,
      "outputs": [
        {
          "output_type": "stream",
          "name": "stdout",
          "text": [
            "\n",
            "### Document Similarity\n",
            "Similarity between documents: 0.86\n"
          ]
        }
      ]
    },
    {
      "cell_type": "code",
      "source": [
        "# Section 5: Sentiment Analysis (Basic Example)\n",
        "print(\"\\n### Sentiment Analysis\")\n",
        "def sentiment_score(word):\n",
        "    # Define basic positive and negative word lists\n",
        "    positive_words = [\"good\", \"happy\", \"joy\", \"excellent\"]\n",
        "    negative_words = [\"bad\", \"sad\", \"anger\", \"poor\"]\n",
        "    # Assign scores based on presence in the lists\n",
        "    if word in positive_words:\n",
        "        return 1\n",
        "    elif word in negative_words:\n",
        "        return -1\n",
        "    else:\n",
        "        return 0\n",
        "\n",
        "def analyze_sentiment(document):\n",
        "    # Tokenize the document into words\n",
        "    words = document.lower().split()\n",
        "    # Compute sentiment scores for each word and return the average score\n",
        "    scores = [sentiment_score(word) for word in words]\n",
        "    return np.mean(scores) if scores else 0\n",
        "\n",
        "document = \"I am very happy with this excellent service\"\n",
        "sentiment = analyze_sentiment(document)\n",
        "if sentiment > 0:\n",
        "    print(\"Positive sentiment\")\n",
        "elif sentiment < 0:\n",
        "    print(\"Negative sentiment\")\n",
        "else:\n",
        "    print(\"Neutral sentiment\")"
      ],
      "metadata": {
        "colab": {
          "base_uri": "https://localhost:8080/"
        },
        "id": "NzzDG-MZViZQ",
        "outputId": "df7d2604-848c-4103-e8e2-e808b64575e4"
      },
      "execution_count": 45,
      "outputs": [
        {
          "output_type": "stream",
          "name": "stdout",
          "text": [
            "\n",
            "### Sentiment Analysis\n",
            "Positive sentiment\n"
          ]
        }
      ]
    },
    {
      "cell_type": "code",
      "source": [
        "import gensim.downloader as api\n",
        "import numpy as np\n",
        "\n",
        "# Load pre-trained Word2Vec (100-dimensional GloVe)\n",
        "wv = api.load(\"glove-wiki-gigaword-100\")  # loads in a few seconds\n"
      ],
      "metadata": {
        "colab": {
          "base_uri": "https://localhost:8080/"
        },
        "id": "SykwCtlOoltN",
        "outputId": "353ec56d-48e5-4284-9943-40668bdc805c"
      },
      "execution_count": 9,
      "outputs": [
        {
          "output_type": "stream",
          "name": "stdout",
          "text": [
            "[==================================================] 100.0% 128.1/128.1MB downloaded\n"
          ]
        }
      ]
    },
    {
      "cell_type": "code",
      "source": [
        "def average_word_vectors(corpus, model, vector_size=100):\n",
        "    vectors = []\n",
        "    for tokens in tqdm(corpus, desc=\"Generating averaged vectors\"):\n",
        "        valid_tokens = [token for token in tokens if token in model] # Corrected: removed .wv\n",
        "        if valid_tokens:\n",
        "            vector = np.mean([model[token] for token in valid_tokens], axis=0) # Corrected: removed .wv\n",
        "        else:\n",
        "            vector = np.zeros(vector_size)\n",
        "        vectors.append(vector)\n",
        "    return np.array(vectors)"
      ],
      "metadata": {
        "id": "ahuZXIlaooS1"
      },
      "execution_count": 51,
      "outputs": []
    },
    {
      "cell_type": "code",
      "source": [
        "# Apply to all three sets\n",
        "X_train_w2v = average_word_vectors(df_train['cleaned_review'], loaded_model.wv)\n",
        "X_val_w2v = average_word_vectors(df_val['cleaned_review'], loaded_model.wv)\n",
        "X_test_w2v = average_word_vectors(df_test['cleaned_review'], loaded_model.wv)"
      ],
      "metadata": {
        "colab": {
          "base_uri": "https://localhost:8080/"
        },
        "id": "axvoH9UfotRz",
        "outputId": "ef154a11-9b49-4b30-f532-97b9cfae2552"
      },
      "execution_count": 52,
      "outputs": [
        {
          "output_type": "stream",
          "name": "stderr",
          "text": [
            "Generating averaged vectors: 100%|██████████| 35000/35000 [00:34<00:00, 1012.82it/s]\n",
            "Generating averaged vectors: 100%|██████████| 5000/5000 [00:04<00:00, 1086.17it/s]\n",
            "Generating averaged vectors: 100%|██████████| 10000/10000 [00:10<00:00, 992.10it/s]\n"
          ]
        }
      ]
    },
    {
      "cell_type": "markdown",
      "source": [
        "# Modeling & Evaluation"
      ],
      "metadata": {
        "id": "7InK9FTsyZc3"
      }
    },
    {
      "cell_type": "code",
      "source": [
        "y_train = df_train['label']\n",
        "y_val = df_val['label']\n",
        "y_test = df_test['label']"
      ],
      "metadata": {
        "id": "WqQu_bYsyU9L"
      },
      "execution_count": 53,
      "outputs": []
    },
    {
      "cell_type": "code",
      "source": [
        "from sklearn.metrics import accuracy_score, precision_recall_fscore_support\n",
        "\n",
        "def evaluate_model(name, model, X_train, y_train, X_val, y_val):\n",
        "    model.fit(X_train, y_train)\n",
        "    preds = model.predict(X_val)\n",
        "\n",
        "    acc = accuracy_score(y_val, preds)\n",
        "    precision, recall, f1, _ = precision_recall_fscore_support(y_val, preds, average='macro')\n",
        "\n",
        "    print(f\"📊 {name}\")\n",
        "    print(f\"Accuracy:  {acc:.4f}\")\n",
        "    print(f\"Precision: {precision:.4f}\")\n",
        "    print(f\"Recall:    {recall:.4f}\")\n",
        "    print(f\"F1 Score:  {f1:.4f}\")\n",
        "    print(\"-\" * 30)\n",
        "\n",
        "    return {\n",
        "        \"Model\": name,\n",
        "        \"Accuracy\": acc,\n",
        "        \"Precision\": precision,\n",
        "        \"Recall\": recall,\n",
        "        \"F1 Score\": f1\n",
        "    }\n"
      ],
      "metadata": {
        "id": "DjkBzStRybiF"
      },
      "execution_count": 54,
      "outputs": []
    },
    {
      "cell_type": "code",
      "source": [
        "nb_bow = MultinomialNB()\n",
        "nb_tfidf = MultinomialNB()\n",
        "\n",
        "results = []\n",
        "results.append(evaluate_model(\"Naive Bayes (BoW)\", nb_bow, X_train_bow, y_train, X_val_bow, y_val))\n",
        "results.append(evaluate_model(\"Naive Bayes (TF-IDF)\", nb_tfidf, X_train_tfidf, y_train, X_val_tfidf, y_val))\n"
      ],
      "metadata": {
        "colab": {
          "base_uri": "https://localhost:8080/"
        },
        "id": "foM2b_-pypCb",
        "outputId": "a5096a87-fa05-45aa-f7e9-fb2b82811b4c"
      },
      "execution_count": 15,
      "outputs": [
        {
          "output_type": "stream",
          "name": "stdout",
          "text": [
            "📊 Naive Bayes (BoW)\n",
            "Accuracy:  0.8470\n",
            "Precision: 0.8476\n",
            "Recall:    0.8470\n",
            "F1 Score:  0.8469\n",
            "------------------------------\n",
            "📊 Naive Bayes (TF-IDF)\n",
            "Accuracy:  0.8520\n",
            "Precision: 0.8523\n",
            "Recall:    0.8520\n",
            "F1 Score:  0.8520\n",
            "------------------------------\n"
          ]
        }
      ]
    },
    {
      "cell_type": "code",
      "source": [
        "# from sklearn.linear_model import LogisticRegression\n",
        "\n",
        "log_bow = LogisticRegression(max_iter=1000)\n",
        "log_tfidf = LogisticRegression(max_iter=1000)\n",
        "log_w2v = LogisticRegression(max_iter=1000)\n",
        "\n",
        "results.append(evaluate_model(\"LogReg (BoW)\", log_bow, X_train_bow, y_train, X_val_bow, y_val))\n",
        "results.append(evaluate_model(\"LogReg (TF-IDF)\", log_tfidf, X_train_tfidf, y_train, X_val_tfidf, y_val))\n",
        "results.append(evaluate_model(\"LogReg (Word2Vec)\", log_w2v, X_train_w2v, y_train, X_val_w2v, y_val))\n"
      ],
      "metadata": {
        "colab": {
          "base_uri": "https://localhost:8080/"
        },
        "id": "8ropRm9SyrCL",
        "outputId": "558df2f5-1ee0-4c44-ca6d-9a8e549db940"
      },
      "execution_count": 16,
      "outputs": [
        {
          "output_type": "stream",
          "name": "stdout",
          "text": [
            "📊 LogReg (BoW)\n",
            "Accuracy:  0.8720\n",
            "Precision: 0.8723\n",
            "Recall:    0.8720\n",
            "F1 Score:  0.8720\n",
            "------------------------------\n",
            "📊 LogReg (TF-IDF)\n",
            "Accuracy:  0.8816\n",
            "Precision: 0.8819\n",
            "Recall:    0.8816\n",
            "F1 Score:  0.8816\n",
            "------------------------------\n",
            "📊 LogReg (Word2Vec)\n",
            "Accuracy:  0.7906\n",
            "Precision: 0.7908\n",
            "Recall:    0.7906\n",
            "F1 Score:  0.7906\n",
            "------------------------------\n"
          ]
        }
      ]
    },
    {
      "cell_type": "code",
      "source": [
        "# from sklearn.svm import LinearSVC\n",
        "\n",
        "svm_bow = LinearSVC()\n",
        "results.append(evaluate_model(\"SVM (BoW)\", svm_bow, X_train_bow, y_train, X_val_bow, y_val))\n",
        "\n",
        "svm_w2v = LinearSVC()\n",
        "results.append(evaluate_model(\"SVM (Word2Vec)\", svm_w2v, X_train_w2v, y_train, X_val_w2v, y_val))\n"
      ],
      "metadata": {
        "colab": {
          "base_uri": "https://localhost:8080/"
        },
        "id": "UUnu2bU6yxhJ",
        "outputId": "bc8fcf7f-6fe0-4886-9fea-e41bacc7f2fc"
      },
      "execution_count": 17,
      "outputs": [
        {
          "output_type": "stream",
          "name": "stderr",
          "text": [
            "/usr/local/lib/python3.11/dist-packages/sklearn/svm/_base.py:1249: ConvergenceWarning: Liblinear failed to converge, increase the number of iterations.\n",
            "  warnings.warn(\n"
          ]
        },
        {
          "output_type": "stream",
          "name": "stdout",
          "text": [
            "📊 SVM (BoW)\n",
            "Accuracy:  0.8546\n",
            "Precision: 0.8547\n",
            "Recall:    0.8546\n",
            "F1 Score:  0.8546\n",
            "------------------------------\n",
            "📊 SVM (Word2Vec)\n",
            "Accuracy:  0.7898\n",
            "Precision: 0.7900\n",
            "Recall:    0.7898\n",
            "F1 Score:  0.7898\n",
            "------------------------------\n"
          ]
        }
      ]
    },
    {
      "cell_type": "code",
      "source": [
        "results_df = pd.DataFrame(results)\n",
        "results_df = results_df.sort_values(by=\"F1 Score\", ascending=False)\n",
        "results_df.reset_index(drop=True, inplace=True)\n",
        "results_df\n"
      ],
      "metadata": {
        "colab": {
          "base_uri": "https://localhost:8080/",
          "height": 269
        },
        "id": "O3qaRZ4Jy6cO",
        "outputId": "26353823-750a-4a15-f0c2-d782c0602fc4"
      },
      "execution_count": 18,
      "outputs": [
        {
          "output_type": "execute_result",
          "data": {
            "text/plain": [
              "                  Model  Accuracy  Precision  Recall  F1 Score\n",
              "0       LogReg (TF-IDF)    0.8816   0.881917  0.8816  0.881575\n",
              "1          LogReg (BoW)    0.8720   0.872292  0.8720  0.871975\n",
              "2             SVM (BoW)    0.8546   0.854705  0.8546  0.854589\n",
              "3  Naive Bayes (TF-IDF)    0.8520   0.852326  0.8520  0.851966\n",
              "4     Naive Bayes (BoW)    0.8470   0.847637  0.8470  0.846930\n",
              "5     LogReg (Word2Vec)    0.7906   0.790809  0.7906  0.790562\n",
              "6        SVM (Word2Vec)    0.7898   0.789973  0.7898  0.789769"
            ],
            "text/html": [
              "\n",
              "  <div id=\"df-0a1f3aa0-f899-4f51-801e-1288c5e15fd6\" class=\"colab-df-container\">\n",
              "    <div>\n",
              "<style scoped>\n",
              "    .dataframe tbody tr th:only-of-type {\n",
              "        vertical-align: middle;\n",
              "    }\n",
              "\n",
              "    .dataframe tbody tr th {\n",
              "        vertical-align: top;\n",
              "    }\n",
              "\n",
              "    .dataframe thead th {\n",
              "        text-align: right;\n",
              "    }\n",
              "</style>\n",
              "<table border=\"1\" class=\"dataframe\">\n",
              "  <thead>\n",
              "    <tr style=\"text-align: right;\">\n",
              "      <th></th>\n",
              "      <th>Model</th>\n",
              "      <th>Accuracy</th>\n",
              "      <th>Precision</th>\n",
              "      <th>Recall</th>\n",
              "      <th>F1 Score</th>\n",
              "    </tr>\n",
              "  </thead>\n",
              "  <tbody>\n",
              "    <tr>\n",
              "      <th>0</th>\n",
              "      <td>LogReg (TF-IDF)</td>\n",
              "      <td>0.8816</td>\n",
              "      <td>0.881917</td>\n",
              "      <td>0.8816</td>\n",
              "      <td>0.881575</td>\n",
              "    </tr>\n",
              "    <tr>\n",
              "      <th>1</th>\n",
              "      <td>LogReg (BoW)</td>\n",
              "      <td>0.8720</td>\n",
              "      <td>0.872292</td>\n",
              "      <td>0.8720</td>\n",
              "      <td>0.871975</td>\n",
              "    </tr>\n",
              "    <tr>\n",
              "      <th>2</th>\n",
              "      <td>SVM (BoW)</td>\n",
              "      <td>0.8546</td>\n",
              "      <td>0.854705</td>\n",
              "      <td>0.8546</td>\n",
              "      <td>0.854589</td>\n",
              "    </tr>\n",
              "    <tr>\n",
              "      <th>3</th>\n",
              "      <td>Naive Bayes (TF-IDF)</td>\n",
              "      <td>0.8520</td>\n",
              "      <td>0.852326</td>\n",
              "      <td>0.8520</td>\n",
              "      <td>0.851966</td>\n",
              "    </tr>\n",
              "    <tr>\n",
              "      <th>4</th>\n",
              "      <td>Naive Bayes (BoW)</td>\n",
              "      <td>0.8470</td>\n",
              "      <td>0.847637</td>\n",
              "      <td>0.8470</td>\n",
              "      <td>0.846930</td>\n",
              "    </tr>\n",
              "    <tr>\n",
              "      <th>5</th>\n",
              "      <td>LogReg (Word2Vec)</td>\n",
              "      <td>0.7906</td>\n",
              "      <td>0.790809</td>\n",
              "      <td>0.7906</td>\n",
              "      <td>0.790562</td>\n",
              "    </tr>\n",
              "    <tr>\n",
              "      <th>6</th>\n",
              "      <td>SVM (Word2Vec)</td>\n",
              "      <td>0.7898</td>\n",
              "      <td>0.789973</td>\n",
              "      <td>0.7898</td>\n",
              "      <td>0.789769</td>\n",
              "    </tr>\n",
              "  </tbody>\n",
              "</table>\n",
              "</div>\n",
              "    <div class=\"colab-df-buttons\">\n",
              "\n",
              "  <div class=\"colab-df-container\">\n",
              "    <button class=\"colab-df-convert\" onclick=\"convertToInteractive('df-0a1f3aa0-f899-4f51-801e-1288c5e15fd6')\"\n",
              "            title=\"Convert this dataframe to an interactive table.\"\n",
              "            style=\"display:none;\">\n",
              "\n",
              "  <svg xmlns=\"http://www.w3.org/2000/svg\" height=\"24px\" viewBox=\"0 -960 960 960\">\n",
              "    <path d=\"M120-120v-720h720v720H120Zm60-500h600v-160H180v160Zm220 220h160v-160H400v160Zm0 220h160v-160H400v160ZM180-400h160v-160H180v160Zm440 0h160v-160H620v160ZM180-180h160v-160H180v160Zm440 0h160v-160H620v160Z\"/>\n",
              "  </svg>\n",
              "    </button>\n",
              "\n",
              "  <style>\n",
              "    .colab-df-container {\n",
              "      display:flex;\n",
              "      gap: 12px;\n",
              "    }\n",
              "\n",
              "    .colab-df-convert {\n",
              "      background-color: #E8F0FE;\n",
              "      border: none;\n",
              "      border-radius: 50%;\n",
              "      cursor: pointer;\n",
              "      display: none;\n",
              "      fill: #1967D2;\n",
              "      height: 32px;\n",
              "      padding: 0 0 0 0;\n",
              "      width: 32px;\n",
              "    }\n",
              "\n",
              "    .colab-df-convert:hover {\n",
              "      background-color: #E2EBFA;\n",
              "      box-shadow: 0px 1px 2px rgba(60, 64, 67, 0.3), 0px 1px 3px 1px rgba(60, 64, 67, 0.15);\n",
              "      fill: #174EA6;\n",
              "    }\n",
              "\n",
              "    .colab-df-buttons div {\n",
              "      margin-bottom: 4px;\n",
              "    }\n",
              "\n",
              "    [theme=dark] .colab-df-convert {\n",
              "      background-color: #3B4455;\n",
              "      fill: #D2E3FC;\n",
              "    }\n",
              "\n",
              "    [theme=dark] .colab-df-convert:hover {\n",
              "      background-color: #434B5C;\n",
              "      box-shadow: 0px 1px 3px 1px rgba(0, 0, 0, 0.15);\n",
              "      filter: drop-shadow(0px 1px 2px rgba(0, 0, 0, 0.3));\n",
              "      fill: #FFFFFF;\n",
              "    }\n",
              "  </style>\n",
              "\n",
              "    <script>\n",
              "      const buttonEl =\n",
              "        document.querySelector('#df-0a1f3aa0-f899-4f51-801e-1288c5e15fd6 button.colab-df-convert');\n",
              "      buttonEl.style.display =\n",
              "        google.colab.kernel.accessAllowed ? 'block' : 'none';\n",
              "\n",
              "      async function convertToInteractive(key) {\n",
              "        const element = document.querySelector('#df-0a1f3aa0-f899-4f51-801e-1288c5e15fd6');\n",
              "        const dataTable =\n",
              "          await google.colab.kernel.invokeFunction('convertToInteractive',\n",
              "                                                    [key], {});\n",
              "        if (!dataTable) return;\n",
              "\n",
              "        const docLinkHtml = 'Like what you see? Visit the ' +\n",
              "          '<a target=\"_blank\" href=https://colab.research.google.com/notebooks/data_table.ipynb>data table notebook</a>'\n",
              "          + ' to learn more about interactive tables.';\n",
              "        element.innerHTML = '';\n",
              "        dataTable['output_type'] = 'display_data';\n",
              "        await google.colab.output.renderOutput(dataTable, element);\n",
              "        const docLink = document.createElement('div');\n",
              "        docLink.innerHTML = docLinkHtml;\n",
              "        element.appendChild(docLink);\n",
              "      }\n",
              "    </script>\n",
              "  </div>\n",
              "\n",
              "\n",
              "    <div id=\"df-571ba737-3642-41bf-969f-2a9cee7bfb67\">\n",
              "      <button class=\"colab-df-quickchart\" onclick=\"quickchart('df-571ba737-3642-41bf-969f-2a9cee7bfb67')\"\n",
              "                title=\"Suggest charts\"\n",
              "                style=\"display:none;\">\n",
              "\n",
              "<svg xmlns=\"http://www.w3.org/2000/svg\" height=\"24px\"viewBox=\"0 0 24 24\"\n",
              "     width=\"24px\">\n",
              "    <g>\n",
              "        <path d=\"M19 3H5c-1.1 0-2 .9-2 2v14c0 1.1.9 2 2 2h14c1.1 0 2-.9 2-2V5c0-1.1-.9-2-2-2zM9 17H7v-7h2v7zm4 0h-2V7h2v10zm4 0h-2v-4h2v4z\"/>\n",
              "    </g>\n",
              "</svg>\n",
              "      </button>\n",
              "\n",
              "<style>\n",
              "  .colab-df-quickchart {\n",
              "      --bg-color: #E8F0FE;\n",
              "      --fill-color: #1967D2;\n",
              "      --hover-bg-color: #E2EBFA;\n",
              "      --hover-fill-color: #174EA6;\n",
              "      --disabled-fill-color: #AAA;\n",
              "      --disabled-bg-color: #DDD;\n",
              "  }\n",
              "\n",
              "  [theme=dark] .colab-df-quickchart {\n",
              "      --bg-color: #3B4455;\n",
              "      --fill-color: #D2E3FC;\n",
              "      --hover-bg-color: #434B5C;\n",
              "      --hover-fill-color: #FFFFFF;\n",
              "      --disabled-bg-color: #3B4455;\n",
              "      --disabled-fill-color: #666;\n",
              "  }\n",
              "\n",
              "  .colab-df-quickchart {\n",
              "    background-color: var(--bg-color);\n",
              "    border: none;\n",
              "    border-radius: 50%;\n",
              "    cursor: pointer;\n",
              "    display: none;\n",
              "    fill: var(--fill-color);\n",
              "    height: 32px;\n",
              "    padding: 0;\n",
              "    width: 32px;\n",
              "  }\n",
              "\n",
              "  .colab-df-quickchart:hover {\n",
              "    background-color: var(--hover-bg-color);\n",
              "    box-shadow: 0 1px 2px rgba(60, 64, 67, 0.3), 0 1px 3px 1px rgba(60, 64, 67, 0.15);\n",
              "    fill: var(--button-hover-fill-color);\n",
              "  }\n",
              "\n",
              "  .colab-df-quickchart-complete:disabled,\n",
              "  .colab-df-quickchart-complete:disabled:hover {\n",
              "    background-color: var(--disabled-bg-color);\n",
              "    fill: var(--disabled-fill-color);\n",
              "    box-shadow: none;\n",
              "  }\n",
              "\n",
              "  .colab-df-spinner {\n",
              "    border: 2px solid var(--fill-color);\n",
              "    border-color: transparent;\n",
              "    border-bottom-color: var(--fill-color);\n",
              "    animation:\n",
              "      spin 1s steps(1) infinite;\n",
              "  }\n",
              "\n",
              "  @keyframes spin {\n",
              "    0% {\n",
              "      border-color: transparent;\n",
              "      border-bottom-color: var(--fill-color);\n",
              "      border-left-color: var(--fill-color);\n",
              "    }\n",
              "    20% {\n",
              "      border-color: transparent;\n",
              "      border-left-color: var(--fill-color);\n",
              "      border-top-color: var(--fill-color);\n",
              "    }\n",
              "    30% {\n",
              "      border-color: transparent;\n",
              "      border-left-color: var(--fill-color);\n",
              "      border-top-color: var(--fill-color);\n",
              "      border-right-color: var(--fill-color);\n",
              "    }\n",
              "    40% {\n",
              "      border-color: transparent;\n",
              "      border-right-color: var(--fill-color);\n",
              "      border-top-color: var(--fill-color);\n",
              "    }\n",
              "    60% {\n",
              "      border-color: transparent;\n",
              "      border-right-color: var(--fill-color);\n",
              "    }\n",
              "    80% {\n",
              "      border-color: transparent;\n",
              "      border-right-color: var(--fill-color);\n",
              "      border-bottom-color: var(--fill-color);\n",
              "    }\n",
              "    90% {\n",
              "      border-color: transparent;\n",
              "      border-bottom-color: var(--fill-color);\n",
              "    }\n",
              "  }\n",
              "</style>\n",
              "\n",
              "      <script>\n",
              "        async function quickchart(key) {\n",
              "          const quickchartButtonEl =\n",
              "            document.querySelector('#' + key + ' button');\n",
              "          quickchartButtonEl.disabled = true;  // To prevent multiple clicks.\n",
              "          quickchartButtonEl.classList.add('colab-df-spinner');\n",
              "          try {\n",
              "            const charts = await google.colab.kernel.invokeFunction(\n",
              "                'suggestCharts', [key], {});\n",
              "          } catch (error) {\n",
              "            console.error('Error during call to suggestCharts:', error);\n",
              "          }\n",
              "          quickchartButtonEl.classList.remove('colab-df-spinner');\n",
              "          quickchartButtonEl.classList.add('colab-df-quickchart-complete');\n",
              "        }\n",
              "        (() => {\n",
              "          let quickchartButtonEl =\n",
              "            document.querySelector('#df-571ba737-3642-41bf-969f-2a9cee7bfb67 button');\n",
              "          quickchartButtonEl.style.display =\n",
              "            google.colab.kernel.accessAllowed ? 'block' : 'none';\n",
              "        })();\n",
              "      </script>\n",
              "    </div>\n",
              "\n",
              "  <div id=\"id_8dce75e0-8f2d-47d9-a05a-58b83be1e827\">\n",
              "    <style>\n",
              "      .colab-df-generate {\n",
              "        background-color: #E8F0FE;\n",
              "        border: none;\n",
              "        border-radius: 50%;\n",
              "        cursor: pointer;\n",
              "        display: none;\n",
              "        fill: #1967D2;\n",
              "        height: 32px;\n",
              "        padding: 0 0 0 0;\n",
              "        width: 32px;\n",
              "      }\n",
              "\n",
              "      .colab-df-generate:hover {\n",
              "        background-color: #E2EBFA;\n",
              "        box-shadow: 0px 1px 2px rgba(60, 64, 67, 0.3), 0px 1px 3px 1px rgba(60, 64, 67, 0.15);\n",
              "        fill: #174EA6;\n",
              "      }\n",
              "\n",
              "      [theme=dark] .colab-df-generate {\n",
              "        background-color: #3B4455;\n",
              "        fill: #D2E3FC;\n",
              "      }\n",
              "\n",
              "      [theme=dark] .colab-df-generate:hover {\n",
              "        background-color: #434B5C;\n",
              "        box-shadow: 0px 1px 3px 1px rgba(0, 0, 0, 0.15);\n",
              "        filter: drop-shadow(0px 1px 2px rgba(0, 0, 0, 0.3));\n",
              "        fill: #FFFFFF;\n",
              "      }\n",
              "    </style>\n",
              "    <button class=\"colab-df-generate\" onclick=\"generateWithVariable('results_df')\"\n",
              "            title=\"Generate code using this dataframe.\"\n",
              "            style=\"display:none;\">\n",
              "\n",
              "  <svg xmlns=\"http://www.w3.org/2000/svg\" height=\"24px\"viewBox=\"0 0 24 24\"\n",
              "       width=\"24px\">\n",
              "    <path d=\"M7,19H8.4L18.45,9,17,7.55,7,17.6ZM5,21V16.75L18.45,3.32a2,2,0,0,1,2.83,0l1.4,1.43a1.91,1.91,0,0,1,.58,1.4,1.91,1.91,0,0,1-.58,1.4L9.25,21ZM18.45,9,17,7.55Zm-12,3A5.31,5.31,0,0,0,4.9,8.1,5.31,5.31,0,0,0,1,6.5,5.31,5.31,0,0,0,4.9,4.9,5.31,5.31,0,0,0,6.5,1,5.31,5.31,0,0,0,8.1,4.9,5.31,5.31,0,0,0,12,6.5,5.46,5.46,0,0,0,6.5,12Z\"/>\n",
              "  </svg>\n",
              "    </button>\n",
              "    <script>\n",
              "      (() => {\n",
              "      const buttonEl =\n",
              "        document.querySelector('#id_8dce75e0-8f2d-47d9-a05a-58b83be1e827 button.colab-df-generate');\n",
              "      buttonEl.style.display =\n",
              "        google.colab.kernel.accessAllowed ? 'block' : 'none';\n",
              "\n",
              "      buttonEl.onclick = () => {\n",
              "        google.colab.notebook.generateWithVariable('results_df');\n",
              "      }\n",
              "      })();\n",
              "    </script>\n",
              "  </div>\n",
              "\n",
              "    </div>\n",
              "  </div>\n"
            ],
            "application/vnd.google.colaboratory.intrinsic+json": {
              "type": "dataframe",
              "variable_name": "results_df",
              "summary": "{\n  \"name\": \"results_df\",\n  \"rows\": 7,\n  \"fields\": [\n    {\n      \"column\": \"Model\",\n      \"properties\": {\n        \"dtype\": \"string\",\n        \"num_unique_values\": 7,\n        \"samples\": [\n          \"LogReg (TF-IDF)\",\n          \"LogReg (BoW)\",\n          \"LogReg (Word2Vec)\"\n        ],\n        \"semantic_type\": \"\",\n        \"description\": \"\"\n      }\n    },\n    {\n      \"column\": \"Accuracy\",\n      \"properties\": {\n        \"dtype\": \"number\",\n        \"std\": 0.03677152107140475,\n        \"min\": 0.7898,\n        \"max\": 0.8816,\n        \"num_unique_values\": 7,\n        \"samples\": [\n          0.8816,\n          0.872,\n          0.7906\n        ],\n        \"semantic_type\": \"\",\n        \"description\": \"\"\n      }\n    },\n    {\n      \"column\": \"Precision\",\n      \"properties\": {\n        \"dtype\": \"number\",\n        \"std\": 0.036822634199147664,\n        \"min\": 0.7899726381098251,\n        \"max\": 0.8819167770515577,\n        \"num_unique_values\": 7,\n        \"samples\": [\n          0.8819167770515577,\n          0.8722918768314358,\n          0.7908088705631933\n        ],\n        \"semantic_type\": \"\",\n        \"description\": \"\"\n      }\n    },\n    {\n      \"column\": \"Recall\",\n      \"properties\": {\n        \"dtype\": \"number\",\n        \"std\": 0.03677152107140471,\n        \"min\": 0.7898000000000001,\n        \"max\": 0.8815999999999999,\n        \"num_unique_values\": 7,\n        \"samples\": [\n          0.8815999999999999,\n          0.872,\n          0.7906\n        ],\n        \"semantic_type\": \"\",\n        \"description\": \"\"\n      }\n    },\n    {\n      \"column\": \"F1 Score\",\n      \"properties\": {\n        \"dtype\": \"number\",\n        \"std\": 0.03677514935478896,\n        \"min\": 0.7897687091746735,\n        \"max\": 0.8815754434839609,\n        \"num_unique_values\": 7,\n        \"samples\": [\n          0.8815754434839609,\n          0.871974907081788,\n          0.7905623933833559\n        ],\n        \"semantic_type\": \"\",\n        \"description\": \"\"\n      }\n    }\n  ]\n}"
            }
          },
          "metadata": {},
          "execution_count": 18
        }
      ]
    },
    {
      "cell_type": "markdown",
      "source": [
        "# Final Test Evaluation"
      ],
      "metadata": {
        "id": "rqAlhdIizPoF"
      }
    },
    {
      "cell_type": "code",
      "source": [
        "from scipy.sparse import vstack\n",
        "\n",
        "# Combine training and validation sets\n",
        "X_trainval_tfidf = vstack([X_train_tfidf, X_val_tfidf])\n",
        "y_trainval = pd.concat([y_train, y_val])\n",
        "\n",
        "X_test_tfidf = X_test_tfidf  # already processed"
      ],
      "metadata": {
        "id": "_iJrgOb1zLbi"
      },
      "execution_count": 21,
      "outputs": []
    },
    {
      "cell_type": "code",
      "source": [
        "final_model = LogisticRegression(max_iter=1000)\n",
        "final_model.fit(X_trainval_tfidf, y_trainval)\n",
        "\n",
        "y_pred = final_model.predict(X_test_tfidf)\n"
      ],
      "metadata": {
        "id": "RA8SqRc4zSOe"
      },
      "execution_count": 22,
      "outputs": []
    },
    {
      "cell_type": "code",
      "source": [
        "from sklearn.metrics import classification_report, confusion_matrix\n",
        "\n",
        "print(\"🏁 Final Test Set Evaluation\")\n",
        "print(classification_report(y_test, y_pred, target_names=[\"Negative\", \"Positive\"]))\n",
        "\n",
        "# Optional: Confusion Matrix\n",
        "import seaborn as sns\n",
        "import matplotlib.pyplot as plt\n",
        "\n",
        "cm = confusion_matrix(y_test, y_pred)\n",
        "sns.heatmap(cm, annot=True, fmt='d', xticklabels=[\"Neg\", \"Pos\"], yticklabels=[\"Neg\", \"Pos\"])\n",
        "plt.xlabel(\"Predicted\")\n",
        "plt.ylabel(\"Actual\")\n",
        "plt.title(\"Confusion Matrix on Test Set\")\n",
        "plt.show()\n"
      ],
      "metadata": {
        "colab": {
          "base_uri": "https://localhost:8080/",
          "height": 654
        },
        "id": "uwylTBjMzyU3",
        "outputId": "f76d856c-bfd7-47e9-9bb1-b3b707790715"
      },
      "execution_count": 23,
      "outputs": [
        {
          "output_type": "stream",
          "name": "stdout",
          "text": [
            "🏁 Final Test Set Evaluation\n",
            "              precision    recall  f1-score   support\n",
            "\n",
            "    Negative       0.90      0.88      0.89      5000\n",
            "    Positive       0.88      0.90      0.89      5000\n",
            "\n",
            "    accuracy                           0.89     10000\n",
            "   macro avg       0.89      0.89      0.89     10000\n",
            "weighted avg       0.89      0.89      0.89     10000\n",
            "\n"
          ]
        },
        {
          "output_type": "display_data",
          "data": {
            "text/plain": [
              "<Figure size 640x480 with 2 Axes>"
            ],
            "image/png": "[encoded data removed]"
          },
          "metadata": {}
        }
      ]
    },
    {
      "cell_type": "markdown",
      "source": [
        "# Markov Chain model for text generation"
      ],
      "metadata": {
        "id": "SUEGYQWb0EYi"
      }
    },
    {
      "cell_type": "code",
      "source": [
        "# Use cleaned reviews from the full dataset\n",
        "texts = df['cleaned_review'].tolist()\n"
      ],
      "metadata": {
        "id": "KfaWglOm0G8s"
      },
      "execution_count": 24,
      "outputs": []
    },
    {
      "cell_type": "code",
      "source": [
        "from collections import defaultdict\n",
        "import random\n",
        "\n",
        "def build_trigram_model(texts):\n",
        "    model = defaultdict(list)\n",
        "\n",
        "    for sentence in texts:\n",
        "        words = sentence.split()\n",
        "        if len(words) < 3:\n",
        "            continue\n",
        "        for i in range(len(words) - 2):\n",
        "            key = (words[i], words[i + 1])\n",
        "            next_word = words[i + 2]\n",
        "            model[key].append(next_word)\n",
        "\n",
        "    return model\n"
      ],
      "metadata": {
        "id": "ytF2i07D0KrW"
      },
      "execution_count": 31,
      "outputs": []
    },
    {
      "cell_type": "code",
      "source": [
        "def generate_trigram_text(model, max_length=50):\n",
        "    # Randomly pick a starting bigram\n",
        "    start = random.choice(list(model.keys()))\n",
        "    result = [start[0], start[1]]\n",
        "\n",
        "    for _ in range(max_length - 2):\n",
        "        key = (result[-2], result[-1])\n",
        "        next_words = model.get(key, None)\n",
        "        if not next_words:\n",
        "            break\n",
        "        next_word = random.choice(next_words)\n",
        "        result.append(next_word)\n",
        "\n",
        "    return ' '.join(result)\n"
      ],
      "metadata": {
        "id": "pR56pQ2o0Nlr"
      },
      "execution_count": 32,
      "outputs": []
    },
    {
      "cell_type": "code",
      "source": [
        "# Build the trigram-based Markov model\n",
        "trigram_model = build_trigram_model(texts)\n",
        "\n",
        "# Generate sample reviews\n",
        "for _ in range(5):\n",
        "    print(\"📝\", generate_trigram_text(trigram_model))\n",
        "    print()\n"
      ],
      "metadata": {
        "colab": {
          "base_uri": "https://localhost:8080/"
        },
        "id": "tO7igH1-0SDX",
        "outputId": "5381243a-5cf7-4052-c5f0-efa4ff947a8d"
      },
      "execution_count": 33,
      "outputs": [
        {
          "output_type": "stream",
          "name": "stdout",
          "text": [
            "📝 totally unmovedif want see movie enjoyed every thrilling page almost inevitable hollywood would seen mickey idolizing person thought copy eddie murphy team rene russo john giancaspro also cowrote screenplaywhen elvira learns shes one finest antiwar document without resorting use brain say spain common sense walk one seemed like overdone pass\n",
            "\n",
            "📝 grownup people weave many issue past priest dad start new life film feature good looking interesting human character terrible term animation quality work watching ocean recommend former make sure rating film dropsomg im heather graham film committed outright suicide like one short film made series stroke stan meanwhile suffering prostrate\n",
            "\n",
            "📝 movie crab inch forward kph highlight somehow one manages also john garfield play marine blinded grenade fighting guadalcanal learn live disability stereotypical notion gay people like adventure film chance love who really paying attention plot dont see much u time frank morgan larger role remade bbc british film actor word\n",
            "\n",
            "📝 collecting gambling debt get caught go mean feat wouldbe comedy nightclub owner mob connection certainly smaller proportion africanamericans involved crime everywhere next wife seemingly length ferry ride go time hollywood didnt waste money timei gave film cant believe arent surely know carry plot forward loved almost break trick featured break\n",
            "\n",
            "📝 bear mentioning way two long time seemed might wrong moronic piece garbage like else cheesy especially cgi fireif wasnt enough thought film captured particularly well known beloved aria marvelous dorothy kirsten eduard franz ludwig donath highly fictionalized biography legendary worldrenowned tenor whose name escape moment whilst awaiting execution visited monk\n",
            "\n"
          ]
        }
      ]
    },
    {
      "cell_type": "code",
      "source": [
        "pip freeze > requirements.txt\n"
      ],
      "metadata": {
        "id": "JGrs1yY88D8z"
      },
      "execution_count": 34,
      "outputs": []
    },
    {
      "cell_type": "code",
      "metadata": {
        "colab": {
          "base_uri": "https://localhost:8080/",
          "height": 746
        },
        "id": "b008063e",
        "outputId": "3666d4cb-4b64-46c8-e1b6-9acc53fda4aa"
      },
      "source": [
        "# Evaluate the final model on the test set\n",
        "y_pred = final_model.predict(X_test_tfidf)\n",
        "\n",
        "print(\"Final Model Evaluation on Test Set:\")\n",
        "print(classification_report(y_test, y_pred))\n",
        "\n",
        "# Confusion Matrix\n",
        "cm = confusion_matrix(y_test, y_pred)\n",
        "plt.figure(figsize=(8, 6))\n",
        "sns.heatmap(cm, annot=True, fmt='d', cmap='Blues', xticklabels=['Negative', 'Positive'], yticklabels=['Negative', 'Positive'])\n",
        "plt.xlabel('Predicted')\n",
        "plt.ylabel('Actual')\n",
        "plt.title('Confusion Matrix - Final Model')\n",
        "plt.show()"
      ],
      "execution_count": 35,
      "outputs": [
        {
          "output_type": "stream",
          "name": "stdout",
          "text": [
            "Final Model Evaluation on Test Set:\n",
            "              precision    recall  f1-score   support\n",
            "\n",
            "           0       0.90      0.88      0.89      5000\n",
            "           1       0.88      0.90      0.89      5000\n",
            "\n",
            "    accuracy                           0.89     10000\n",
            "   macro avg       0.89      0.89      0.89     10000\n",
            "weighted avg       0.89      0.89      0.89     10000\n",
            "\n"
          ]
        },
        {
          "output_type": "display_data",
          "data": {
            "text/plain": [
              "<Figure size 800x600 with 2 Axes>"
            ],
            "image/png": "[encoded data removed]"
          },
          "metadata": {}
        }
      ]
    }
  ],
  "metadata": {
    "colab": {
      "gpuType": "T4",
      "provenance": []
    },
    "kernelspec": {
      "display_name": "Python 3",
      "name": "python3"
    },
    "language_info": {
      "name": "python"
    },
    "accelerator": "GPU"
  },
  "nbformat": 4,
  "nbformat_minor": 0
}